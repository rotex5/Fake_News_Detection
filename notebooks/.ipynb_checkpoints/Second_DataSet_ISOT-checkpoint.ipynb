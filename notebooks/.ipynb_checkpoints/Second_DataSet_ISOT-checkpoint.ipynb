{
 "cells": [
  {
   "cell_type": "markdown",
   "id": "0a359836",
   "metadata": {
    "id": "0a359836"
   },
   "source": [
    "# Fake New Dectection"
   ]
  },
  {
   "cell_type": "code",
   "execution_count": 2,
   "id": "9a35269a",
   "metadata": {
    "id": "9a35269a"
   },
   "outputs": [],
   "source": [
    "import numpy as np\n",
    "import pandas as pd\n",
    "import re,string,unicodedata\n",
    "import os\n",
    "\n",
    "# NLP Libs\n",
    "import nltk\n",
    "from nltk.corpus import stopwords\n",
    "#from nltk.stem.porter import PorterStemmer\n",
    "from wordcloud import WordCloud,STOPWORDS\n",
    "from nltk.stem import WordNetLemmatizer\n",
    "from nltk.tokenize import word_tokenize,sent_tokenize\n",
    "#from bs4 import BeautifulSoup\n",
    "\n",
    "from sklearn.feature_extraction.text import TfidfTransformer\n",
    "from sklearn.feature_extraction.text import CountVectorizer\n",
    "from sklearn.feature_extraction.text import TfidfVectorizer\n",
    "\n",
    "#ML Algos\n",
    "from sklearn.naive_bayes import MultinomialNB\n",
    "from sklearn.svm import SVC\n",
    "\n",
    "from sklearn.metrics import (accuracy_score,\n",
    "                             precision_score,\n",
    "                             recall_score,\n",
    "                             f1_score,\n",
    "                             matthews_corrcoef,\n",
    "                             cohen_kappa_score,\n",
    "                             roc_auc_score)"
   ]
  },
  {
   "cell_type": "code",
   "execution_count": 3,
   "id": "65ef9977",
   "metadata": {
    "id": "65ef9977"
   },
   "outputs": [],
   "source": [
    "# Import our data\n",
    "\n",
    "fake = pd.read_csv(\"./dataset/ISOT_News_dataset/Fake.csv\")\n",
    "true = pd.read_csv(\"./dataset/ISOT_News_dataset/True.csv\")"
   ]
  },
  {
   "cell_type": "markdown",
   "id": "d6d0d342",
   "metadata": {
    "id": "d6d0d342"
   },
   "source": [
    "# Data Analysis"
   ]
  },
  {
   "cell_type": "code",
   "execution_count": 4,
   "id": "02962112",
   "metadata": {},
   "outputs": [
    {
     "data": {
      "text/html": [
       "<div>\n",
       "<style scoped>\n",
       "    .dataframe tbody tr th:only-of-type {\n",
       "        vertical-align: middle;\n",
       "    }\n",
       "\n",
       "    .dataframe tbody tr th {\n",
       "        vertical-align: top;\n",
       "    }\n",
       "\n",
       "    .dataframe thead th {\n",
       "        text-align: right;\n",
       "    }\n",
       "</style>\n",
       "<table border=\"1\" class=\"dataframe\">\n",
       "  <thead>\n",
       "    <tr style=\"text-align: right;\">\n",
       "      <th></th>\n",
       "      <th>title</th>\n",
       "      <th>text</th>\n",
       "      <th>subject</th>\n",
       "      <th>date</th>\n",
       "    </tr>\n",
       "  </thead>\n",
       "  <tbody>\n",
       "    <tr>\n",
       "      <th>1657</th>\n",
       "      <td>White House weighs abandoning estate tax repea...</td>\n",
       "      <td>((This Sept. 19 story corrects paragraph 9 to...</td>\n",
       "      <td>politicsNews</td>\n",
       "      <td>September 19, 2017</td>\n",
       "    </tr>\n",
       "    <tr>\n",
       "      <th>20938</th>\n",
       "      <td>If Trump says Iran violating nuclear deal, doe...</td>\n",
       "      <td>WASHINGTON (Reuters) - If U.S. President Donal...</td>\n",
       "      <td>worldnews</td>\n",
       "      <td>September 5, 2017</td>\n",
       "    </tr>\n",
       "    <tr>\n",
       "      <th>19236</th>\n",
       "      <td>North Korea says rockets to U.S. 'inevitable' ...</td>\n",
       "      <td>UNITED NATIONS (Reuters) - North Korea s Forei...</td>\n",
       "      <td>worldnews</td>\n",
       "      <td>September 23, 2017</td>\n",
       "    </tr>\n",
       "    <tr>\n",
       "      <th>12566</th>\n",
       "      <td>Magnitude 6.0 earthquake hits western Iran: st...</td>\n",
       "      <td>BEIRUT (Reuters) - A magnitude 6.0 earthquake ...</td>\n",
       "      <td>worldnews</td>\n",
       "      <td>December 11, 2017</td>\n",
       "    </tr>\n",
       "    <tr>\n",
       "      <th>13813</th>\n",
       "      <td>Castro ally and intellectual Armando Hart dead...</td>\n",
       "      <td>HAVANA (Reuters) - Armando Hart, who headed th...</td>\n",
       "      <td>worldnews</td>\n",
       "      <td>November 27, 2017</td>\n",
       "    </tr>\n",
       "    <tr>\n",
       "      <th>16802</th>\n",
       "      <td>Catalonia's leaders fight off direct rule from...</td>\n",
       "      <td>MADRID/BARCELONA (Reuters) - Catalonia s leade...</td>\n",
       "      <td>worldnews</td>\n",
       "      <td>October 21, 2017</td>\n",
       "    </tr>\n",
       "    <tr>\n",
       "      <th>11129</th>\n",
       "      <td>Magazine's anti-Trump editorial spurs Republic...</td>\n",
       "      <td>DES MOINES (Reuters) - An influential conserva...</td>\n",
       "      <td>politicsNews</td>\n",
       "      <td>January 22, 2016</td>\n",
       "    </tr>\n",
       "    <tr>\n",
       "      <th>7424</th>\n",
       "      <td>Rhetoric or reality? Arabs struggle to decode ...</td>\n",
       "      <td>DUBAI (Reuters) - The future leader of the Mid...</td>\n",
       "      <td>politicsNews</td>\n",
       "      <td>November 9, 2016</td>\n",
       "    </tr>\n",
       "    <tr>\n",
       "      <th>4473</th>\n",
       "      <td>Infrastructure overhaul may top $1 trillion, c...</td>\n",
       "      <td>WASHINGTON (Reuters) - President Donald Trump ...</td>\n",
       "      <td>politicsNews</td>\n",
       "      <td>April 4, 2017</td>\n",
       "    </tr>\n",
       "    <tr>\n",
       "      <th>1451</th>\n",
       "      <td>Factbox: Trump on Twitter (Oct 1) - Rex Tiller...</td>\n",
       "      <td>The following statements were posted to the ve...</td>\n",
       "      <td>politicsNews</td>\n",
       "      <td>October 2, 2017</td>\n",
       "    </tr>\n",
       "    <tr>\n",
       "      <th>7038</th>\n",
       "      <td>Factbox: Contenders, picks for key jobs in Tru...</td>\n",
       "      <td>(Reuters) - U.S. President-elect Donald Trump ...</td>\n",
       "      <td>politicsNews</td>\n",
       "      <td>November 28, 2016</td>\n",
       "    </tr>\n",
       "    <tr>\n",
       "      <th>12519</th>\n",
       "      <td>Wife of disgraced Mexican governor taking 'ref...</td>\n",
       "      <td>MEXICO CITY (Reuters) - The wife of a detained...</td>\n",
       "      <td>worldnews</td>\n",
       "      <td>December 12, 2017</td>\n",
       "    </tr>\n",
       "    <tr>\n",
       "      <th>15690</th>\n",
       "      <td>European nations condemn detention of lawyer i...</td>\n",
       "      <td>CAIRO (Reuters) - Several European countries h...</td>\n",
       "      <td>worldnews</td>\n",
       "      <td>November 4, 2017</td>\n",
       "    </tr>\n",
       "    <tr>\n",
       "      <th>15281</th>\n",
       "      <td>Rohingya row to Bangladesh as Myanmar's Suu Ky...</td>\n",
       "      <td>COX S BAZAR/YANGON (Reuters) - Blessed by calm...</td>\n",
       "      <td>worldnews</td>\n",
       "      <td>November 9, 2017</td>\n",
       "    </tr>\n",
       "    <tr>\n",
       "      <th>20841</th>\n",
       "      <td>DNA tests on Dali's body refute woman's patern...</td>\n",
       "      <td>MADRID (Reuters) - DNA tests on the exhumed bo...</td>\n",
       "      <td>worldnews</td>\n",
       "      <td>September 6, 2017</td>\n",
       "    </tr>\n",
       "    <tr>\n",
       "      <th>3605</th>\n",
       "      <td>White House says no evidence of Trump team col...</td>\n",
       "      <td>WASHINGTON (Reuters) - The White House, respon...</td>\n",
       "      <td>politicsNews</td>\n",
       "      <td>May 23, 2017</td>\n",
       "    </tr>\n",
       "    <tr>\n",
       "      <th>9483</th>\n",
       "      <td>Trump: 'most likely' would choose a Supreme Co...</td>\n",
       "      <td>WASHINGTON (Reuters) - Donald Trump, the presu...</td>\n",
       "      <td>politicsNews</td>\n",
       "      <td>May 18, 2016</td>\n",
       "    </tr>\n",
       "    <tr>\n",
       "      <th>17070</th>\n",
       "      <td>NZ Green Party leader in talks with Labour-led...</td>\n",
       "      <td>SYDNEY (Reuters) - New Zealand Green Party lea...</td>\n",
       "      <td>worldnews</td>\n",
       "      <td>October 19, 2017</td>\n",
       "    </tr>\n",
       "    <tr>\n",
       "      <th>987</th>\n",
       "      <td>President Trump leaning toward Powell as next ...</td>\n",
       "      <td>WASHINGTON (Reuters) - President Donald Trump ...</td>\n",
       "      <td>politicsNews</td>\n",
       "      <td>October 27, 2017</td>\n",
       "    </tr>\n",
       "    <tr>\n",
       "      <th>9507</th>\n",
       "      <td>White House defends deportations after Democra...</td>\n",
       "      <td>WASHINGTON (Reuters) - The White House on Frid...</td>\n",
       "      <td>politicsNews</td>\n",
       "      <td>May 13, 2016</td>\n",
       "    </tr>\n",
       "  </tbody>\n",
       "</table>\n",
       "</div>"
      ],
      "text/plain": [
       "                                                   title  \\\n",
       "1657   White House weighs abandoning estate tax repea...   \n",
       "20938  If Trump says Iran violating nuclear deal, doe...   \n",
       "19236  North Korea says rockets to U.S. 'inevitable' ...   \n",
       "12566  Magnitude 6.0 earthquake hits western Iran: st...   \n",
       "13813  Castro ally and intellectual Armando Hart dead...   \n",
       "16802  Catalonia's leaders fight off direct rule from...   \n",
       "11129  Magazine's anti-Trump editorial spurs Republic...   \n",
       "7424   Rhetoric or reality? Arabs struggle to decode ...   \n",
       "4473   Infrastructure overhaul may top $1 trillion, c...   \n",
       "1451   Factbox: Trump on Twitter (Oct 1) - Rex Tiller...   \n",
       "7038   Factbox: Contenders, picks for key jobs in Tru...   \n",
       "12519  Wife of disgraced Mexican governor taking 'ref...   \n",
       "15690  European nations condemn detention of lawyer i...   \n",
       "15281  Rohingya row to Bangladesh as Myanmar's Suu Ky...   \n",
       "20841  DNA tests on Dali's body refute woman's patern...   \n",
       "3605   White House says no evidence of Trump team col...   \n",
       "9483   Trump: 'most likely' would choose a Supreme Co...   \n",
       "17070  NZ Green Party leader in talks with Labour-led...   \n",
       "987    President Trump leaning toward Powell as next ...   \n",
       "9507   White House defends deportations after Democra...   \n",
       "\n",
       "                                                    text       subject  \\\n",
       "1657    ((This Sept. 19 story corrects paragraph 9 to...  politicsNews   \n",
       "20938  WASHINGTON (Reuters) - If U.S. President Donal...     worldnews   \n",
       "19236  UNITED NATIONS (Reuters) - North Korea s Forei...     worldnews   \n",
       "12566  BEIRUT (Reuters) - A magnitude 6.0 earthquake ...     worldnews   \n",
       "13813  HAVANA (Reuters) - Armando Hart, who headed th...     worldnews   \n",
       "16802  MADRID/BARCELONA (Reuters) - Catalonia s leade...     worldnews   \n",
       "11129  DES MOINES (Reuters) - An influential conserva...  politicsNews   \n",
       "7424   DUBAI (Reuters) - The future leader of the Mid...  politicsNews   \n",
       "4473   WASHINGTON (Reuters) - President Donald Trump ...  politicsNews   \n",
       "1451   The following statements were posted to the ve...  politicsNews   \n",
       "7038   (Reuters) - U.S. President-elect Donald Trump ...  politicsNews   \n",
       "12519  MEXICO CITY (Reuters) - The wife of a detained...     worldnews   \n",
       "15690  CAIRO (Reuters) - Several European countries h...     worldnews   \n",
       "15281  COX S BAZAR/YANGON (Reuters) - Blessed by calm...     worldnews   \n",
       "20841  MADRID (Reuters) - DNA tests on the exhumed bo...     worldnews   \n",
       "3605   WASHINGTON (Reuters) - The White House, respon...  politicsNews   \n",
       "9483   WASHINGTON (Reuters) - Donald Trump, the presu...  politicsNews   \n",
       "17070  SYDNEY (Reuters) - New Zealand Green Party lea...     worldnews   \n",
       "987    WASHINGTON (Reuters) - President Donald Trump ...  politicsNews   \n",
       "9507   WASHINGTON (Reuters) - The White House on Frid...  politicsNews   \n",
       "\n",
       "                      date  \n",
       "1657   September 19, 2017   \n",
       "20938   September 5, 2017   \n",
       "19236  September 23, 2017   \n",
       "12566   December 11, 2017   \n",
       "13813   November 27, 2017   \n",
       "16802    October 21, 2017   \n",
       "11129    January 22, 2016   \n",
       "7424     November 9, 2016   \n",
       "4473        April 4, 2017   \n",
       "1451      October 2, 2017   \n",
       "7038    November 28, 2016   \n",
       "12519   December 12, 2017   \n",
       "15690    November 4, 2017   \n",
       "15281    November 9, 2017   \n",
       "20841   September 6, 2017   \n",
       "3605         May 23, 2017   \n",
       "9483         May 18, 2016   \n",
       "17070    October 19, 2017   \n",
       "987      October 27, 2017   \n",
       "9507         May 13, 2016   "
      ]
     },
     "execution_count": 4,
     "metadata": {},
     "output_type": "execute_result"
    }
   ],
   "source": [
    "true.sample(20)"
   ]
  },
  {
   "cell_type": "code",
   "execution_count": 5,
   "id": "fd801f2d",
   "metadata": {},
   "outputs": [
    {
     "data": {
      "text/html": [
       "<div>\n",
       "<style scoped>\n",
       "    .dataframe tbody tr th:only-of-type {\n",
       "        vertical-align: middle;\n",
       "    }\n",
       "\n",
       "    .dataframe tbody tr th {\n",
       "        vertical-align: top;\n",
       "    }\n",
       "\n",
       "    .dataframe thead th {\n",
       "        text-align: right;\n",
       "    }\n",
       "</style>\n",
       "<table border=\"1\" class=\"dataframe\">\n",
       "  <thead>\n",
       "    <tr style=\"text-align: right;\">\n",
       "      <th></th>\n",
       "      <th>title</th>\n",
       "      <th>text</th>\n",
       "      <th>subject</th>\n",
       "      <th>date</th>\n",
       "    </tr>\n",
       "  </thead>\n",
       "  <tbody>\n",
       "    <tr>\n",
       "      <th>19220</th>\n",
       "      <td>“REVEREND” AL SHARPTON Makes Up Lie About Jesu...</td>\n",
       "      <td>Hey Al you do realize that Obama was more than...</td>\n",
       "      <td>left-news</td>\n",
       "      <td>Jan 30, 2017</td>\n",
       "    </tr>\n",
       "    <tr>\n",
       "      <th>19059</th>\n",
       "      <td>VAN JONES Guarantees 8 Years Of President Trum...</td>\n",
       "      <td>Van Jones praised President Trump for honoring...</td>\n",
       "      <td>left-news</td>\n",
       "      <td>Mar 1, 2017</td>\n",
       "    </tr>\n",
       "    <tr>\n",
       "      <th>6994</th>\n",
       "      <td>WATCH: President Obama Absolutely DESTROYS Tr...</td>\n",
       "      <td>President Obama has a few months left in offic...</td>\n",
       "      <td>News</td>\n",
       "      <td>April 10, 2016</td>\n",
       "    </tr>\n",
       "    <tr>\n",
       "      <th>22989</th>\n",
       "      <td>Boiler Room #97 – Mermaids and Swamp Life</td>\n",
       "      <td>Tune in to the Alternate Current Radio Network...</td>\n",
       "      <td>Middle-east</td>\n",
       "      <td>February 17, 2017</td>\n",
       "    </tr>\n",
       "    <tr>\n",
       "      <th>11931</th>\n",
       "      <td>AS RUSSIA STORY FALLS APART…Obama’s DOJ Goes A...</td>\n",
       "      <td>The inspector general will look at whether FBI...</td>\n",
       "      <td>politics</td>\n",
       "      <td>Jan 12, 2017</td>\n",
       "    </tr>\n",
       "    <tr>\n",
       "      <th>3916</th>\n",
       "      <td>The Trump Camp Just LIED Through Its Teeth Ab...</td>\n",
       "      <td>While campaigning in Reno on Saturday, the Sec...</td>\n",
       "      <td>News</td>\n",
       "      <td>November 6, 2016</td>\n",
       "    </tr>\n",
       "    <tr>\n",
       "      <th>19983</th>\n",
       "      <td>JOHN KERRY’S STATE DEPT Reportedly Funneled Ov...</td>\n",
       "      <td>So much for  the most transparent administrati...</td>\n",
       "      <td>left-news</td>\n",
       "      <td>Sep 13, 2016</td>\n",
       "    </tr>\n",
       "    <tr>\n",
       "      <th>8136</th>\n",
       "      <td>‘Squeaky Clean’ Super Bowl Champ And GOP Post...</td>\n",
       "      <td>Denver Broncos Quarterback and two-time Super ...</td>\n",
       "      <td>News</td>\n",
       "      <td>February 13, 2016</td>\n",
       "    </tr>\n",
       "    <tr>\n",
       "      <th>3552</th>\n",
       "      <td>It’s Not Over Yet: Jill Stein Files Federal L...</td>\n",
       "      <td>Green Party presidential nominee Jill Stein ha...</td>\n",
       "      <td>News</td>\n",
       "      <td>December 5, 2016</td>\n",
       "    </tr>\n",
       "    <tr>\n",
       "      <th>2147</th>\n",
       "      <td>Sean Spicer Finally Admits Obama Probably Did...</td>\n",
       "      <td>According to White House Press Secretary Sean ...</td>\n",
       "      <td>News</td>\n",
       "      <td>March 14, 2017</td>\n",
       "    </tr>\n",
       "    <tr>\n",
       "      <th>4438</th>\n",
       "      <td>Neo-Nazis Are Flocking To Trump’s Campaign An...</td>\n",
       "      <td>The Nazis see Donald Trump as their pathway ba...</td>\n",
       "      <td>News</td>\n",
       "      <td>September 29, 2016</td>\n",
       "    </tr>\n",
       "    <tr>\n",
       "      <th>8806</th>\n",
       "      <td>Trump’s Views On China’s Handling Of Tiananme...</td>\n",
       "      <td>The protest turned massacre at Tiananmen Squar...</td>\n",
       "      <td>News</td>\n",
       "      <td>January 12, 2016</td>\n",
       "    </tr>\n",
       "    <tr>\n",
       "      <th>4142</th>\n",
       "      <td>WATCH: President Obama Tells Whiny Trump To S...</td>\n",
       "      <td>Most Americans wish that the 2016 Presidential...</td>\n",
       "      <td>News</td>\n",
       "      <td>October 18, 2016</td>\n",
       "    </tr>\n",
       "    <tr>\n",
       "      <th>10431</th>\n",
       "      <td>#LockHimUp Former Oversight Chair Jason Chaffe...</td>\n",
       "      <td>President Donald Trump targeted former FBI Dir...</td>\n",
       "      <td>politics</td>\n",
       "      <td>Jul 10, 2017</td>\n",
       "    </tr>\n",
       "    <tr>\n",
       "      <th>15461</th>\n",
       "      <td>FOREIGN BORN ALIEN WITH 4 FELONIES ARRESTED FO...</td>\n",
       "      <td>The consequences of a failure to control immig...</td>\n",
       "      <td>politics</td>\n",
       "      <td>Jul 15, 2015</td>\n",
       "    </tr>\n",
       "    <tr>\n",
       "      <th>20516</th>\n",
       "      <td>DEVASTATING 30 SECOND Commercial Shows Scary T...</td>\n",
       "      <td>First it was the FLUSH TARGET  campaign, where...</td>\n",
       "      <td>left-news</td>\n",
       "      <td>May 26, 2016</td>\n",
       "    </tr>\n",
       "    <tr>\n",
       "      <th>564</th>\n",
       "      <td>Trump Crushed As Ex-KKK Leader Bashes Him For...</td>\n",
       "      <td>Donald Trump is in big trouble. Not only has h...</td>\n",
       "      <td>News</td>\n",
       "      <td>August 14, 2017</td>\n",
       "    </tr>\n",
       "    <tr>\n",
       "      <th>10345</th>\n",
       "      <td>WATCH: TRUMP SUPPORTER DESTROYS “Ghetto” McDon...</td>\n",
       "      <td>A uniformed police officer in Virginia said he...</td>\n",
       "      <td>politics</td>\n",
       "      <td>Jul 21, 2017</td>\n",
       "    </tr>\n",
       "    <tr>\n",
       "      <th>3948</th>\n",
       "      <td>WATCH: Anderson Cooper Schools Kellyanne Conw...</td>\n",
       "      <td>It was a simple question, but it was enough tu...</td>\n",
       "      <td>News</td>\n",
       "      <td>November 4, 2016</td>\n",
       "    </tr>\n",
       "    <tr>\n",
       "      <th>7133</th>\n",
       "      <td>Donald Trump REFUSED To Answer This Clever Qu...</td>\n",
       "      <td>Republican front runner Donald Trump has once ...</td>\n",
       "      <td>News</td>\n",
       "      <td>April 3, 2016</td>\n",
       "    </tr>\n",
       "  </tbody>\n",
       "</table>\n",
       "</div>"
      ],
      "text/plain": [
       "                                                   title  \\\n",
       "19220  “REVEREND” AL SHARPTON Makes Up Lie About Jesu...   \n",
       "19059  VAN JONES Guarantees 8 Years Of President Trum...   \n",
       "6994    WATCH: President Obama Absolutely DESTROYS Tr...   \n",
       "22989          Boiler Room #97 – Mermaids and Swamp Life   \n",
       "11931  AS RUSSIA STORY FALLS APART…Obama’s DOJ Goes A...   \n",
       "3916    The Trump Camp Just LIED Through Its Teeth Ab...   \n",
       "19983  JOHN KERRY’S STATE DEPT Reportedly Funneled Ov...   \n",
       "8136    ‘Squeaky Clean’ Super Bowl Champ And GOP Post...   \n",
       "3552    It’s Not Over Yet: Jill Stein Files Federal L...   \n",
       "2147    Sean Spicer Finally Admits Obama Probably Did...   \n",
       "4438    Neo-Nazis Are Flocking To Trump’s Campaign An...   \n",
       "8806    Trump’s Views On China’s Handling Of Tiananme...   \n",
       "4142    WATCH: President Obama Tells Whiny Trump To S...   \n",
       "10431  #LockHimUp Former Oversight Chair Jason Chaffe...   \n",
       "15461  FOREIGN BORN ALIEN WITH 4 FELONIES ARRESTED FO...   \n",
       "20516  DEVASTATING 30 SECOND Commercial Shows Scary T...   \n",
       "564     Trump Crushed As Ex-KKK Leader Bashes Him For...   \n",
       "10345  WATCH: TRUMP SUPPORTER DESTROYS “Ghetto” McDon...   \n",
       "3948    WATCH: Anderson Cooper Schools Kellyanne Conw...   \n",
       "7133    Donald Trump REFUSED To Answer This Clever Qu...   \n",
       "\n",
       "                                                    text      subject  \\\n",
       "19220  Hey Al you do realize that Obama was more than...    left-news   \n",
       "19059  Van Jones praised President Trump for honoring...    left-news   \n",
       "6994   President Obama has a few months left in offic...         News   \n",
       "22989  Tune in to the Alternate Current Radio Network...  Middle-east   \n",
       "11931  The inspector general will look at whether FBI...     politics   \n",
       "3916   While campaigning in Reno on Saturday, the Sec...         News   \n",
       "19983  So much for  the most transparent administrati...    left-news   \n",
       "8136   Denver Broncos Quarterback and two-time Super ...         News   \n",
       "3552   Green Party presidential nominee Jill Stein ha...         News   \n",
       "2147   According to White House Press Secretary Sean ...         News   \n",
       "4438   The Nazis see Donald Trump as their pathway ba...         News   \n",
       "8806   The protest turned massacre at Tiananmen Squar...         News   \n",
       "4142   Most Americans wish that the 2016 Presidential...         News   \n",
       "10431  President Donald Trump targeted former FBI Dir...     politics   \n",
       "15461  The consequences of a failure to control immig...     politics   \n",
       "20516  First it was the FLUSH TARGET  campaign, where...    left-news   \n",
       "564    Donald Trump is in big trouble. Not only has h...         News   \n",
       "10345  A uniformed police officer in Virginia said he...     politics   \n",
       "3948   It was a simple question, but it was enough tu...         News   \n",
       "7133   Republican front runner Donald Trump has once ...         News   \n",
       "\n",
       "                     date  \n",
       "19220        Jan 30, 2017  \n",
       "19059         Mar 1, 2017  \n",
       "6994       April 10, 2016  \n",
       "22989   February 17, 2017  \n",
       "11931        Jan 12, 2017  \n",
       "3916     November 6, 2016  \n",
       "19983        Sep 13, 2016  \n",
       "8136    February 13, 2016  \n",
       "3552     December 5, 2016  \n",
       "2147       March 14, 2017  \n",
       "4438   September 29, 2016  \n",
       "8806     January 12, 2016  \n",
       "4142     October 18, 2016  \n",
       "10431        Jul 10, 2017  \n",
       "15461        Jul 15, 2015  \n",
       "20516        May 26, 2016  \n",
       "564       August 14, 2017  \n",
       "10345        Jul 21, 2017  \n",
       "3948     November 4, 2016  \n",
       "7133        April 3, 2016  "
      ]
     },
     "execution_count": 5,
     "metadata": {},
     "output_type": "execute_result"
    }
   ],
   "source": [
    "fake.sample(20)"
   ]
  },
  {
   "cell_type": "code",
   "execution_count": 6,
   "id": "126d593b",
   "metadata": {
    "colab": {
     "base_uri": "https://localhost:8080/"
    },
    "id": "126d593b",
    "outputId": "028d49b1-4126-4c3f-c295-cfa3042c0327"
   },
   "outputs": [
    {
     "data": {
      "text/plain": [
       "((21417, 4), (23481, 4))"
      ]
     },
     "execution_count": 6,
     "metadata": {},
     "output_type": "execute_result"
    }
   ],
   "source": [
    "true.shape,fake.shape\n"
   ]
  },
  {
   "cell_type": "code",
   "execution_count": 7,
   "id": "414a9c10",
   "metadata": {},
   "outputs": [
    {
     "data": {
      "text/html": [
       "<div>\n",
       "<style scoped>\n",
       "    .dataframe tbody tr th:only-of-type {\n",
       "        vertical-align: middle;\n",
       "    }\n",
       "\n",
       "    .dataframe tbody tr th {\n",
       "        vertical-align: top;\n",
       "    }\n",
       "\n",
       "    .dataframe thead th {\n",
       "        text-align: right;\n",
       "    }\n",
       "</style>\n",
       "<table border=\"1\" class=\"dataframe\">\n",
       "  <thead>\n",
       "    <tr style=\"text-align: right;\">\n",
       "      <th></th>\n",
       "      <th>title</th>\n",
       "      <th>text</th>\n",
       "      <th>subject</th>\n",
       "      <th>date</th>\n",
       "    </tr>\n",
       "  </thead>\n",
       "  <tbody>\n",
       "    <tr>\n",
       "      <th>0</th>\n",
       "      <td>As U.S. budget fight looms, Republicans flip t...</td>\n",
       "      <td>WASHINGTON (Reuters) - The head of a conservat...</td>\n",
       "      <td>politicsNews</td>\n",
       "      <td>December 31, 2017</td>\n",
       "    </tr>\n",
       "    <tr>\n",
       "      <th>1</th>\n",
       "      <td>U.S. military to accept transgender recruits o...</td>\n",
       "      <td>WASHINGTON (Reuters) - Transgender people will...</td>\n",
       "      <td>politicsNews</td>\n",
       "      <td>December 29, 2017</td>\n",
       "    </tr>\n",
       "    <tr>\n",
       "      <th>2</th>\n",
       "      <td>Senior U.S. Republican senator: 'Let Mr. Muell...</td>\n",
       "      <td>WASHINGTON (Reuters) - The special counsel inv...</td>\n",
       "      <td>politicsNews</td>\n",
       "      <td>December 31, 2017</td>\n",
       "    </tr>\n",
       "    <tr>\n",
       "      <th>3</th>\n",
       "      <td>FBI Russia probe helped by Australian diplomat...</td>\n",
       "      <td>WASHINGTON (Reuters) - Trump campaign adviser ...</td>\n",
       "      <td>politicsNews</td>\n",
       "      <td>December 30, 2017</td>\n",
       "    </tr>\n",
       "    <tr>\n",
       "      <th>4</th>\n",
       "      <td>Trump wants Postal Service to charge 'much mor...</td>\n",
       "      <td>SEATTLE/WASHINGTON (Reuters) - President Donal...</td>\n",
       "      <td>politicsNews</td>\n",
       "      <td>December 29, 2017</td>\n",
       "    </tr>\n",
       "  </tbody>\n",
       "</table>\n",
       "</div>"
      ],
      "text/plain": [
       "                                               title  \\\n",
       "0  As U.S. budget fight looms, Republicans flip t...   \n",
       "1  U.S. military to accept transgender recruits o...   \n",
       "2  Senior U.S. Republican senator: 'Let Mr. Muell...   \n",
       "3  FBI Russia probe helped by Australian diplomat...   \n",
       "4  Trump wants Postal Service to charge 'much mor...   \n",
       "\n",
       "                                                text       subject  \\\n",
       "0  WASHINGTON (Reuters) - The head of a conservat...  politicsNews   \n",
       "1  WASHINGTON (Reuters) - Transgender people will...  politicsNews   \n",
       "2  WASHINGTON (Reuters) - The special counsel inv...  politicsNews   \n",
       "3  WASHINGTON (Reuters) - Trump campaign adviser ...  politicsNews   \n",
       "4  SEATTLE/WASHINGTON (Reuters) - President Donal...  politicsNews   \n",
       "\n",
       "                 date  \n",
       "0  December 31, 2017   \n",
       "1  December 29, 2017   \n",
       "2  December 31, 2017   \n",
       "3  December 30, 2017   \n",
       "4  December 29, 2017   "
      ]
     },
     "execution_count": 7,
     "metadata": {},
     "output_type": "execute_result"
    }
   ],
   "source": [
    "true.head()"
   ]
  },
  {
   "cell_type": "code",
   "execution_count": 8,
   "id": "cf8c7607",
   "metadata": {},
   "outputs": [
    {
     "data": {
      "text/html": [
       "<div>\n",
       "<style scoped>\n",
       "    .dataframe tbody tr th:only-of-type {\n",
       "        vertical-align: middle;\n",
       "    }\n",
       "\n",
       "    .dataframe tbody tr th {\n",
       "        vertical-align: top;\n",
       "    }\n",
       "\n",
       "    .dataframe thead th {\n",
       "        text-align: right;\n",
       "    }\n",
       "</style>\n",
       "<table border=\"1\" class=\"dataframe\">\n",
       "  <thead>\n",
       "    <tr style=\"text-align: right;\">\n",
       "      <th></th>\n",
       "      <th>title</th>\n",
       "      <th>text</th>\n",
       "      <th>subject</th>\n",
       "      <th>date</th>\n",
       "    </tr>\n",
       "  </thead>\n",
       "  <tbody>\n",
       "    <tr>\n",
       "      <th>0</th>\n",
       "      <td>Donald Trump Sends Out Embarrassing New Year’...</td>\n",
       "      <td>Donald Trump just couldn t wish all Americans ...</td>\n",
       "      <td>News</td>\n",
       "      <td>December 31, 2017</td>\n",
       "    </tr>\n",
       "    <tr>\n",
       "      <th>1</th>\n",
       "      <td>Drunk Bragging Trump Staffer Started Russian ...</td>\n",
       "      <td>House Intelligence Committee Chairman Devin Nu...</td>\n",
       "      <td>News</td>\n",
       "      <td>December 31, 2017</td>\n",
       "    </tr>\n",
       "    <tr>\n",
       "      <th>2</th>\n",
       "      <td>Sheriff David Clarke Becomes An Internet Joke...</td>\n",
       "      <td>On Friday, it was revealed that former Milwauk...</td>\n",
       "      <td>News</td>\n",
       "      <td>December 30, 2017</td>\n",
       "    </tr>\n",
       "    <tr>\n",
       "      <th>3</th>\n",
       "      <td>Trump Is So Obsessed He Even Has Obama’s Name...</td>\n",
       "      <td>On Christmas day, Donald Trump announced that ...</td>\n",
       "      <td>News</td>\n",
       "      <td>December 29, 2017</td>\n",
       "    </tr>\n",
       "    <tr>\n",
       "      <th>4</th>\n",
       "      <td>Pope Francis Just Called Out Donald Trump Dur...</td>\n",
       "      <td>Pope Francis used his annual Christmas Day mes...</td>\n",
       "      <td>News</td>\n",
       "      <td>December 25, 2017</td>\n",
       "    </tr>\n",
       "  </tbody>\n",
       "</table>\n",
       "</div>"
      ],
      "text/plain": [
       "                                               title  \\\n",
       "0   Donald Trump Sends Out Embarrassing New Year’...   \n",
       "1   Drunk Bragging Trump Staffer Started Russian ...   \n",
       "2   Sheriff David Clarke Becomes An Internet Joke...   \n",
       "3   Trump Is So Obsessed He Even Has Obama’s Name...   \n",
       "4   Pope Francis Just Called Out Donald Trump Dur...   \n",
       "\n",
       "                                                text subject  \\\n",
       "0  Donald Trump just couldn t wish all Americans ...    News   \n",
       "1  House Intelligence Committee Chairman Devin Nu...    News   \n",
       "2  On Friday, it was revealed that former Milwauk...    News   \n",
       "3  On Christmas day, Donald Trump announced that ...    News   \n",
       "4  Pope Francis used his annual Christmas Day mes...    News   \n",
       "\n",
       "                date  \n",
       "0  December 31, 2017  \n",
       "1  December 31, 2017  \n",
       "2  December 30, 2017  \n",
       "3  December 29, 2017  \n",
       "4  December 25, 2017  "
      ]
     },
     "execution_count": 8,
     "metadata": {},
     "output_type": "execute_result"
    }
   ],
   "source": [
    "fake.head()"
   ]
  },
  {
   "cell_type": "code",
   "execution_count": 9,
   "id": "2931fda9",
   "metadata": {
    "colab": {
     "base_uri": "https://localhost:8080/"
    },
    "id": "2931fda9",
    "outputId": "af29f57a-0094-4163-da1a-264bac489447"
   },
   "outputs": [],
   "source": [
    "# These dataframes do not currently have a category for whether they are true or fake.\n",
    "# Let's create those before we combine the datasets\n",
    "\n",
    "fake['label'] = 1\n",
    "true['label'] = 0"
   ]
  },
  {
   "cell_type": "code",
   "execution_count": 10,
   "id": "d3070080",
   "metadata": {
    "colab": {
     "base_uri": "https://localhost:8080/"
    },
    "id": "d3070080",
    "outputId": "e8235c21-bcfb-4499-ae11-b7a729fdda48"
   },
   "outputs": [],
   "source": [
    "# Now we'll merge the two datasets into a single dataframe\n",
    "\n",
    "df = pd.concat([true,fake], ignore_index=True)"
   ]
  },
  {
   "cell_type": "code",
   "execution_count": 11,
   "id": "f29aad1b",
   "metadata": {
    "colab": {
     "base_uri": "https://localhost:8080/",
     "height": 293
    },
    "id": "f29aad1b",
    "outputId": "3172c7c8-bfa7-4ca5-a848-ccb2230db83a"
   },
   "outputs": [
    {
     "data": {
      "text/html": [
       "<div>\n",
       "<style scoped>\n",
       "    .dataframe tbody tr th:only-of-type {\n",
       "        vertical-align: middle;\n",
       "    }\n",
       "\n",
       "    .dataframe tbody tr th {\n",
       "        vertical-align: top;\n",
       "    }\n",
       "\n",
       "    .dataframe thead th {\n",
       "        text-align: right;\n",
       "    }\n",
       "</style>\n",
       "<table border=\"1\" class=\"dataframe\">\n",
       "  <thead>\n",
       "    <tr style=\"text-align: right;\">\n",
       "      <th></th>\n",
       "      <th>title</th>\n",
       "      <th>text</th>\n",
       "      <th>subject</th>\n",
       "      <th>date</th>\n",
       "      <th>label</th>\n",
       "    </tr>\n",
       "  </thead>\n",
       "  <tbody>\n",
       "    <tr>\n",
       "      <th>0</th>\n",
       "      <td>As U.S. budget fight looms, Republicans flip t...</td>\n",
       "      <td>WASHINGTON (Reuters) - The head of a conservat...</td>\n",
       "      <td>politicsNews</td>\n",
       "      <td>December 31, 2017</td>\n",
       "      <td>0</td>\n",
       "    </tr>\n",
       "    <tr>\n",
       "      <th>1</th>\n",
       "      <td>U.S. military to accept transgender recruits o...</td>\n",
       "      <td>WASHINGTON (Reuters) - Transgender people will...</td>\n",
       "      <td>politicsNews</td>\n",
       "      <td>December 29, 2017</td>\n",
       "      <td>0</td>\n",
       "    </tr>\n",
       "    <tr>\n",
       "      <th>2</th>\n",
       "      <td>Senior U.S. Republican senator: 'Let Mr. Muell...</td>\n",
       "      <td>WASHINGTON (Reuters) - The special counsel inv...</td>\n",
       "      <td>politicsNews</td>\n",
       "      <td>December 31, 2017</td>\n",
       "      <td>0</td>\n",
       "    </tr>\n",
       "    <tr>\n",
       "      <th>3</th>\n",
       "      <td>FBI Russia probe helped by Australian diplomat...</td>\n",
       "      <td>WASHINGTON (Reuters) - Trump campaign adviser ...</td>\n",
       "      <td>politicsNews</td>\n",
       "      <td>December 30, 2017</td>\n",
       "      <td>0</td>\n",
       "    </tr>\n",
       "    <tr>\n",
       "      <th>4</th>\n",
       "      <td>Trump wants Postal Service to charge 'much mor...</td>\n",
       "      <td>SEATTLE/WASHINGTON (Reuters) - President Donal...</td>\n",
       "      <td>politicsNews</td>\n",
       "      <td>December 29, 2017</td>\n",
       "      <td>0</td>\n",
       "    </tr>\n",
       "    <tr>\n",
       "      <th>5</th>\n",
       "      <td>White House, Congress prepare for talks on spe...</td>\n",
       "      <td>WEST PALM BEACH, Fla./WASHINGTON (Reuters) - T...</td>\n",
       "      <td>politicsNews</td>\n",
       "      <td>December 29, 2017</td>\n",
       "      <td>0</td>\n",
       "    </tr>\n",
       "    <tr>\n",
       "      <th>6</th>\n",
       "      <td>Trump says Russia probe will be fair, but time...</td>\n",
       "      <td>WEST PALM BEACH, Fla (Reuters) - President Don...</td>\n",
       "      <td>politicsNews</td>\n",
       "      <td>December 29, 2017</td>\n",
       "      <td>0</td>\n",
       "    </tr>\n",
       "    <tr>\n",
       "      <th>7</th>\n",
       "      <td>Factbox: Trump on Twitter (Dec 29) - Approval ...</td>\n",
       "      <td>The following statements were posted to the ve...</td>\n",
       "      <td>politicsNews</td>\n",
       "      <td>December 29, 2017</td>\n",
       "      <td>0</td>\n",
       "    </tr>\n",
       "    <tr>\n",
       "      <th>8</th>\n",
       "      <td>Trump on Twitter (Dec 28) - Global Warming</td>\n",
       "      <td>The following statements were posted to the ve...</td>\n",
       "      <td>politicsNews</td>\n",
       "      <td>December 29, 2017</td>\n",
       "      <td>0</td>\n",
       "    </tr>\n",
       "    <tr>\n",
       "      <th>9</th>\n",
       "      <td>Alabama official to certify Senator-elect Jone...</td>\n",
       "      <td>WASHINGTON (Reuters) - Alabama Secretary of St...</td>\n",
       "      <td>politicsNews</td>\n",
       "      <td>December 28, 2017</td>\n",
       "      <td>0</td>\n",
       "    </tr>\n",
       "  </tbody>\n",
       "</table>\n",
       "</div>"
      ],
      "text/plain": [
       "                                               title  \\\n",
       "0  As U.S. budget fight looms, Republicans flip t...   \n",
       "1  U.S. military to accept transgender recruits o...   \n",
       "2  Senior U.S. Republican senator: 'Let Mr. Muell...   \n",
       "3  FBI Russia probe helped by Australian diplomat...   \n",
       "4  Trump wants Postal Service to charge 'much mor...   \n",
       "5  White House, Congress prepare for talks on spe...   \n",
       "6  Trump says Russia probe will be fair, but time...   \n",
       "7  Factbox: Trump on Twitter (Dec 29) - Approval ...   \n",
       "8         Trump on Twitter (Dec 28) - Global Warming   \n",
       "9  Alabama official to certify Senator-elect Jone...   \n",
       "\n",
       "                                                text       subject  \\\n",
       "0  WASHINGTON (Reuters) - The head of a conservat...  politicsNews   \n",
       "1  WASHINGTON (Reuters) - Transgender people will...  politicsNews   \n",
       "2  WASHINGTON (Reuters) - The special counsel inv...  politicsNews   \n",
       "3  WASHINGTON (Reuters) - Trump campaign adviser ...  politicsNews   \n",
       "4  SEATTLE/WASHINGTON (Reuters) - President Donal...  politicsNews   \n",
       "5  WEST PALM BEACH, Fla./WASHINGTON (Reuters) - T...  politicsNews   \n",
       "6  WEST PALM BEACH, Fla (Reuters) - President Don...  politicsNews   \n",
       "7  The following statements were posted to the ve...  politicsNews   \n",
       "8  The following statements were posted to the ve...  politicsNews   \n",
       "9  WASHINGTON (Reuters) - Alabama Secretary of St...  politicsNews   \n",
       "\n",
       "                 date  label  \n",
       "0  December 31, 2017       0  \n",
       "1  December 29, 2017       0  \n",
       "2  December 31, 2017       0  \n",
       "3  December 30, 2017       0  \n",
       "4  December 29, 2017       0  \n",
       "5  December 29, 2017       0  \n",
       "6  December 29, 2017       0  \n",
       "7  December 29, 2017       0  \n",
       "8  December 29, 2017       0  \n",
       "9  December 28, 2017       0  "
      ]
     },
     "execution_count": 11,
     "metadata": {},
     "output_type": "execute_result"
    }
   ],
   "source": [
    "df.head(10)"
   ]
  },
  {
   "cell_type": "code",
   "execution_count": 12,
   "id": "6cd3e8c9",
   "metadata": {
    "id": "6cd3e8c9"
   },
   "outputs": [
    {
     "data": {
      "image/png": "[encoded data removed]",
      "text/plain": [
       "<Figure size 1600x900 with 1 Axes>"
      ]
     },
     "metadata": {},
     "output_type": "display_data"
    }
   ],
   "source": [
    "# Visualization Libs\n",
    "import seaborn as sns\n",
    "import matplotlib.pyplot as plt\n",
    "\n",
    "plt.figure(figsize=(16,9))\n",
    "\n",
    "#sns.countplot(df.label)\n",
    "sns.countplot(data=df, x='label')\n",
    "\n",
    "plt.title('Total Fake and Real News Articles', fontsize=24)\n",
    "plt.ylabel('Total', fontsize=16)\n",
    "plt.xlabel('')\n",
    "plt.xticks([1, 0], ['Fake', 'Real'], fontsize=16)\n",
    "\n",
    "plt.show()"
   ]
  },
  {
   "cell_type": "code",
   "execution_count": 13,
   "id": "7d1da327",
   "metadata": {
    "colab": {
     "base_uri": "https://localhost:8080/",
     "height": 379
    },
    "id": "7d1da327",
    "outputId": "74637429-47a7-4125-9c65-87fdf8c896db"
   },
   "outputs": [
    {
     "data": {
      "text/plain": [
       "Index(['title', 'text', 'subject', 'date', 'label'], dtype='object')"
      ]
     },
     "execution_count": 13,
     "metadata": {},
     "output_type": "execute_result"
    }
   ],
   "source": [
    "df.columns"
   ]
  },
  {
   "cell_type": "code",
   "execution_count": 14,
   "id": "e61749b5",
   "metadata": {
    "id": "e61749b5"
   },
   "outputs": [
    {
     "name": "stdout",
     "output_type": "stream",
     "text": [
      "title      0\n",
      "text       0\n",
      "subject    0\n",
      "date       0\n",
      "label      0\n",
      "dtype: int64\n"
     ]
    }
   ],
   "source": [
    "print(df.isnull().sum())"
   ]
  },
  {
   "cell_type": "code",
   "execution_count": 15,
   "id": "1f51911b",
   "metadata": {
    "colab": {
     "base_uri": "https://localhost:8080/",
     "height": 206
    },
    "id": "1f51911b",
    "outputId": "b48c0bab-950e-4411-ebcb-2203ba9e5588"
   },
   "outputs": [
    {
     "name": "stdout",
     "output_type": "stream",
     "text": [
      "<class 'pandas.core.frame.DataFrame'>\n",
      "RangeIndex: 44898 entries, 0 to 44897\n",
      "Data columns (total 5 columns):\n",
      " #   Column   Non-Null Count  Dtype \n",
      "---  ------   --------------  ----- \n",
      " 0   title    44898 non-null  object\n",
      " 1   text     44898 non-null  object\n",
      " 2   subject  44898 non-null  object\n",
      " 3   date     44898 non-null  object\n",
      " 4   label    44898 non-null  int64 \n",
      "dtypes: int64(1), object(4)\n",
      "memory usage: 1.7+ MB\n"
     ]
    }
   ],
   "source": [
    "df.info()"
   ]
  },
  {
   "cell_type": "code",
   "execution_count": 16,
   "id": "ee02a9f2",
   "metadata": {},
   "outputs": [],
   "source": [
    "#df=df.fillna(' ')\n",
    "# Now we'll create the Corpus that will be used in our NLP model\n",
    "\n",
    "# This will create a single column with all the relevant text\n",
    "\n",
    "df['total']=df['title']+' '+df['text']\n",
    "#df['total']=df['text']"
   ]
  },
  {
   "cell_type": "code",
   "execution_count": 17,
   "id": "b960005c",
   "metadata": {},
   "outputs": [
    {
     "data": {
      "text/html": [
       "<div>\n",
       "<style scoped>\n",
       "    .dataframe tbody tr th:only-of-type {\n",
       "        vertical-align: middle;\n",
       "    }\n",
       "\n",
       "    .dataframe tbody tr th {\n",
       "        vertical-align: top;\n",
       "    }\n",
       "\n",
       "    .dataframe thead th {\n",
       "        text-align: right;\n",
       "    }\n",
       "</style>\n",
       "<table border=\"1\" class=\"dataframe\">\n",
       "  <thead>\n",
       "    <tr style=\"text-align: right;\">\n",
       "      <th></th>\n",
       "      <th>title</th>\n",
       "      <th>text</th>\n",
       "      <th>subject</th>\n",
       "      <th>date</th>\n",
       "      <th>label</th>\n",
       "      <th>total</th>\n",
       "    </tr>\n",
       "  </thead>\n",
       "  <tbody>\n",
       "    <tr>\n",
       "      <th>0</th>\n",
       "      <td>As U.S. budget fight looms, Republicans flip t...</td>\n",
       "      <td>WASHINGTON (Reuters) - The head of a conservat...</td>\n",
       "      <td>politicsNews</td>\n",
       "      <td>December 31, 2017</td>\n",
       "      <td>0</td>\n",
       "      <td>As U.S. budget fight looms, Republicans flip t...</td>\n",
       "    </tr>\n",
       "    <tr>\n",
       "      <th>1</th>\n",
       "      <td>U.S. military to accept transgender recruits o...</td>\n",
       "      <td>WASHINGTON (Reuters) - Transgender people will...</td>\n",
       "      <td>politicsNews</td>\n",
       "      <td>December 29, 2017</td>\n",
       "      <td>0</td>\n",
       "      <td>U.S. military to accept transgender recruits o...</td>\n",
       "    </tr>\n",
       "    <tr>\n",
       "      <th>2</th>\n",
       "      <td>Senior U.S. Republican senator: 'Let Mr. Muell...</td>\n",
       "      <td>WASHINGTON (Reuters) - The special counsel inv...</td>\n",
       "      <td>politicsNews</td>\n",
       "      <td>December 31, 2017</td>\n",
       "      <td>0</td>\n",
       "      <td>Senior U.S. Republican senator: 'Let Mr. Muell...</td>\n",
       "    </tr>\n",
       "    <tr>\n",
       "      <th>3</th>\n",
       "      <td>FBI Russia probe helped by Australian diplomat...</td>\n",
       "      <td>WASHINGTON (Reuters) - Trump campaign adviser ...</td>\n",
       "      <td>politicsNews</td>\n",
       "      <td>December 30, 2017</td>\n",
       "      <td>0</td>\n",
       "      <td>FBI Russia probe helped by Australian diplomat...</td>\n",
       "    </tr>\n",
       "    <tr>\n",
       "      <th>4</th>\n",
       "      <td>Trump wants Postal Service to charge 'much mor...</td>\n",
       "      <td>SEATTLE/WASHINGTON (Reuters) - President Donal...</td>\n",
       "      <td>politicsNews</td>\n",
       "      <td>December 29, 2017</td>\n",
       "      <td>0</td>\n",
       "      <td>Trump wants Postal Service to charge 'much mor...</td>\n",
       "    </tr>\n",
       "  </tbody>\n",
       "</table>\n",
       "</div>"
      ],
      "text/plain": [
       "                                               title  \\\n",
       "0  As U.S. budget fight looms, Republicans flip t...   \n",
       "1  U.S. military to accept transgender recruits o...   \n",
       "2  Senior U.S. Republican senator: 'Let Mr. Muell...   \n",
       "3  FBI Russia probe helped by Australian diplomat...   \n",
       "4  Trump wants Postal Service to charge 'much mor...   \n",
       "\n",
       "                                                text       subject  \\\n",
       "0  WASHINGTON (Reuters) - The head of a conservat...  politicsNews   \n",
       "1  WASHINGTON (Reuters) - Transgender people will...  politicsNews   \n",
       "2  WASHINGTON (Reuters) - The special counsel inv...  politicsNews   \n",
       "3  WASHINGTON (Reuters) - Trump campaign adviser ...  politicsNews   \n",
       "4  SEATTLE/WASHINGTON (Reuters) - President Donal...  politicsNews   \n",
       "\n",
       "                 date  label  \\\n",
       "0  December 31, 2017       0   \n",
       "1  December 29, 2017       0   \n",
       "2  December 31, 2017       0   \n",
       "3  December 30, 2017       0   \n",
       "4  December 29, 2017       0   \n",
       "\n",
       "                                               total  \n",
       "0  As U.S. budget fight looms, Republicans flip t...  \n",
       "1  U.S. military to accept transgender recruits o...  \n",
       "2  Senior U.S. Republican senator: 'Let Mr. Muell...  \n",
       "3  FBI Russia probe helped by Australian diplomat...  \n",
       "4  Trump wants Postal Service to charge 'much mor...  "
      ]
     },
     "execution_count": 17,
     "metadata": {},
     "output_type": "execute_result"
    }
   ],
   "source": [
    "df.head()"
   ]
  },
  {
   "cell_type": "code",
   "execution_count": 18,
   "id": "c614a07e",
   "metadata": {},
   "outputs": [],
   "source": [
    "df = df.drop(['title','text','subject', 'date'],axis = 1)"
   ]
  },
  {
   "cell_type": "code",
   "execution_count": 19,
   "id": "b46e5549",
   "metadata": {},
   "outputs": [
    {
     "data": {
      "text/html": [
       "<div>\n",
       "<style scoped>\n",
       "    .dataframe tbody tr th:only-of-type {\n",
       "        vertical-align: middle;\n",
       "    }\n",
       "\n",
       "    .dataframe tbody tr th {\n",
       "        vertical-align: top;\n",
       "    }\n",
       "\n",
       "    .dataframe thead th {\n",
       "        text-align: right;\n",
       "    }\n",
       "</style>\n",
       "<table border=\"1\" class=\"dataframe\">\n",
       "  <thead>\n",
       "    <tr style=\"text-align: right;\">\n",
       "      <th></th>\n",
       "      <th>label</th>\n",
       "      <th>total</th>\n",
       "    </tr>\n",
       "  </thead>\n",
       "  <tbody>\n",
       "    <tr>\n",
       "      <th>0</th>\n",
       "      <td>0</td>\n",
       "      <td>As U.S. budget fight looms, Republicans flip t...</td>\n",
       "    </tr>\n",
       "    <tr>\n",
       "      <th>1</th>\n",
       "      <td>0</td>\n",
       "      <td>U.S. military to accept transgender recruits o...</td>\n",
       "    </tr>\n",
       "    <tr>\n",
       "      <th>2</th>\n",
       "      <td>0</td>\n",
       "      <td>Senior U.S. Republican senator: 'Let Mr. Muell...</td>\n",
       "    </tr>\n",
       "    <tr>\n",
       "      <th>3</th>\n",
       "      <td>0</td>\n",
       "      <td>FBI Russia probe helped by Australian diplomat...</td>\n",
       "    </tr>\n",
       "    <tr>\n",
       "      <th>4</th>\n",
       "      <td>0</td>\n",
       "      <td>Trump wants Postal Service to charge 'much mor...</td>\n",
       "    </tr>\n",
       "  </tbody>\n",
       "</table>\n",
       "</div>"
      ],
      "text/plain": [
       "   label                                              total\n",
       "0      0  As U.S. budget fight looms, Republicans flip t...\n",
       "1      0  U.S. military to accept transgender recruits o...\n",
       "2      0  Senior U.S. Republican senator: 'Let Mr. Muell...\n",
       "3      0  FBI Russia probe helped by Australian diplomat...\n",
       "4      0  Trump wants Postal Service to charge 'much mor..."
      ]
     },
     "execution_count": 19,
     "metadata": {},
     "output_type": "execute_result"
    }
   ],
   "source": [
    "df.head()"
   ]
  },
  {
   "cell_type": "code",
   "execution_count": 20,
   "id": "beb0a70b",
   "metadata": {},
   "outputs": [
    {
     "data": {
      "text/plain": [
       "(44898, 2)"
      ]
     },
     "execution_count": 20,
     "metadata": {},
     "output_type": "execute_result"
    }
   ],
   "source": [
    "df.shape"
   ]
  },
  {
   "cell_type": "markdown",
   "id": "6b8dffe0",
   "metadata": {
    "id": "6b8dffe0"
   },
   "source": [
    "# Cleaning and preprocessing"
   ]
  },
  {
   "cell_type": "code",
   "execution_count": 21,
   "id": "_XGkq6inVqEt",
   "metadata": {
    "colab": {
     "base_uri": "https://localhost:8080/"
    },
    "id": "_XGkq6inVqEt",
    "outputId": "9f3cf8fb-c5c3-4f2e-d139-2d5a51201817"
   },
   "outputs": [],
   "source": [
    "#import nltk\n",
    "#nltk.download('stopwords')\n",
    "#nltk.download('punkt')\n",
    "#nltk.download('stopwords')\n",
    "#nltk.download('wordnet')\n",
    "#nltk.download('omw-1.4')"
   ]
  },
  {
   "cell_type": "code",
   "execution_count": 22,
   "id": "d8619ada",
   "metadata": {
    "id": "d8619ada"
   },
   "outputs": [],
   "source": [
    "stop_words = stopwords.words('english')\n",
    "lemmatizer=WordNetLemmatizer()\n",
    "for index,row in df.iterrows():\n",
    "    filter_sentence = ''\n",
    "\n",
    "    sentence = row['total']\n",
    "    sentence = re.sub(r'[^\\w\\s]','',sentence) #cleaning\n",
    "    words = nltk.word_tokenize(sentence) #tokenization\n",
    "    words = [w.lower() for w in words if not w in stop_words]  #stopwords removal\n",
    "\n",
    "    for word in words:\n",
    "        filter_sentence = filter_sentence + ' ' + str(lemmatizer.lemmatize(word)).lower()\n",
    "\n",
    "    df.loc[index,'total'] = filter_sentence"
   ]
  },
  {
   "cell_type": "code",
   "execution_count": 23,
   "id": "fcd495f6",
   "metadata": {
    "colab": {
     "base_uri": "https://localhost:8080/",
     "height": 206
    },
    "id": "fcd495f6",
    "outputId": "6b51f14b-a680-47a7-c266-f0b1c160182a"
   },
   "outputs": [
    {
     "data": {
      "text/html": [
       "<div>\n",
       "<style scoped>\n",
       "    .dataframe tbody tr th:only-of-type {\n",
       "        vertical-align: middle;\n",
       "    }\n",
       "\n",
       "    .dataframe tbody tr th {\n",
       "        vertical-align: top;\n",
       "    }\n",
       "\n",
       "    .dataframe thead th {\n",
       "        text-align: right;\n",
       "    }\n",
       "</style>\n",
       "<table border=\"1\" class=\"dataframe\">\n",
       "  <thead>\n",
       "    <tr style=\"text-align: right;\">\n",
       "      <th></th>\n",
       "      <th>label</th>\n",
       "      <th>total</th>\n",
       "    </tr>\n",
       "  </thead>\n",
       "  <tbody>\n",
       "    <tr>\n",
       "      <th>22216</th>\n",
       "      <td>1</td>\n",
       "      <td>breaking gop chairman grassley ha had enough ...</td>\n",
       "    </tr>\n",
       "    <tr>\n",
       "      <th>27917</th>\n",
       "      <td>1</td>\n",
       "      <td>failed gop candidate remembered in hilarious ...</td>\n",
       "    </tr>\n",
       "    <tr>\n",
       "      <th>25007</th>\n",
       "      <td>1</td>\n",
       "      <td>mike pences new dc neighbor are hilariously t...</td>\n",
       "    </tr>\n",
       "    <tr>\n",
       "      <th>1377</th>\n",
       "      <td>0</td>\n",
       "      <td>california ag pledge defend birth control ins...</td>\n",
       "    </tr>\n",
       "    <tr>\n",
       "      <th>32476</th>\n",
       "      <td>1</td>\n",
       "      <td>az rancher living on usmexico border destroy ...</td>\n",
       "    </tr>\n",
       "  </tbody>\n",
       "</table>\n",
       "</div>"
      ],
      "text/plain": [
       "       label                                              total\n",
       "22216      1   breaking gop chairman grassley ha had enough ...\n",
       "27917      1   failed gop candidate remembered in hilarious ...\n",
       "25007      1   mike pences new dc neighbor are hilariously t...\n",
       "1377       0   california ag pledge defend birth control ins...\n",
       "32476      1   az rancher living on usmexico border destroy ..."
      ]
     },
     "execution_count": 23,
     "metadata": {},
     "output_type": "execute_result"
    }
   ],
   "source": [
    "from sklearn.utils import shuffle\n",
    "\n",
    "df = shuffle(df, random_state=42)\n",
    "df.head()"
   ]
  },
  {
   "cell_type": "code",
   "execution_count": 24,
   "id": "bf53fc34",
   "metadata": {},
   "outputs": [],
   "source": [
    "df = df.reset_index().drop(columns=['index'])"
   ]
  },
  {
   "cell_type": "code",
   "execution_count": 25,
   "id": "16233f1f",
   "metadata": {},
   "outputs": [
    {
     "data": {
      "text/html": [
       "<div>\n",
       "<style scoped>\n",
       "    .dataframe tbody tr th:only-of-type {\n",
       "        vertical-align: middle;\n",
       "    }\n",
       "\n",
       "    .dataframe tbody tr th {\n",
       "        vertical-align: top;\n",
       "    }\n",
       "\n",
       "    .dataframe thead th {\n",
       "        text-align: right;\n",
       "    }\n",
       "</style>\n",
       "<table border=\"1\" class=\"dataframe\">\n",
       "  <thead>\n",
       "    <tr style=\"text-align: right;\">\n",
       "      <th></th>\n",
       "      <th>label</th>\n",
       "      <th>total</th>\n",
       "    </tr>\n",
       "  </thead>\n",
       "  <tbody>\n",
       "    <tr>\n",
       "      <th>0</th>\n",
       "      <td>1</td>\n",
       "      <td>breaking gop chairman grassley ha had enough ...</td>\n",
       "    </tr>\n",
       "    <tr>\n",
       "      <th>1</th>\n",
       "      <td>1</td>\n",
       "      <td>failed gop candidate remembered in hilarious ...</td>\n",
       "    </tr>\n",
       "    <tr>\n",
       "      <th>2</th>\n",
       "      <td>1</td>\n",
       "      <td>mike pences new dc neighbor are hilariously t...</td>\n",
       "    </tr>\n",
       "    <tr>\n",
       "      <th>3</th>\n",
       "      <td>0</td>\n",
       "      <td>california ag pledge defend birth control ins...</td>\n",
       "    </tr>\n",
       "    <tr>\n",
       "      <th>4</th>\n",
       "      <td>1</td>\n",
       "      <td>az rancher living on usmexico border destroy ...</td>\n",
       "    </tr>\n",
       "    <tr>\n",
       "      <th>5</th>\n",
       "      <td>0</td>\n",
       "      <td>a private lawyer trump high court pick friend...</td>\n",
       "    </tr>\n",
       "    <tr>\n",
       "      <th>6</th>\n",
       "      <td>0</td>\n",
       "      <td>yemeni salafist imam killed aden source aden ...</td>\n",
       "    </tr>\n",
       "    <tr>\n",
       "      <th>7</th>\n",
       "      <td>0</td>\n",
       "      <td>fbi say witness u probe malaysia 1mdb fear sa...</td>\n",
       "    </tr>\n",
       "    <tr>\n",
       "      <th>8</th>\n",
       "      <td>1</td>\n",
       "      <td>an easy to read chart show how bernie sander ...</td>\n",
       "    </tr>\n",
       "    <tr>\n",
       "      <th>9</th>\n",
       "      <td>1</td>\n",
       "      <td>mma fighter jake shield embarrasses coward in...</td>\n",
       "    </tr>\n",
       "    <tr>\n",
       "      <th>10</th>\n",
       "      <td>1</td>\n",
       "      <td>tired of thing going well marco rubio make pr...</td>\n",
       "    </tr>\n",
       "    <tr>\n",
       "      <th>11</th>\n",
       "      <td>0</td>\n",
       "      <td>yemen air strike kill eight woman two child s...</td>\n",
       "    </tr>\n",
       "    <tr>\n",
       "      <th>12</th>\n",
       "      <td>1</td>\n",
       "      <td>breaking wdbj killer wa angry black democratr...</td>\n",
       "    </tr>\n",
       "    <tr>\n",
       "      <th>13</th>\n",
       "      <td>1</td>\n",
       "      <td>list of 22 time obama called phony climate ch...</td>\n",
       "    </tr>\n",
       "    <tr>\n",
       "      <th>14</th>\n",
       "      <td>0</td>\n",
       "      <td>indopacific not china sitting beijingnew delh...</td>\n",
       "    </tr>\n",
       "    <tr>\n",
       "      <th>15</th>\n",
       "      <td>1</td>\n",
       "      <td>art contest winner disqualified being trump s...</td>\n",
       "    </tr>\n",
       "    <tr>\n",
       "      <th>16</th>\n",
       "      <td>0</td>\n",
       "      <td>lip teeth china tie north korea fray beijing ...</td>\n",
       "    </tr>\n",
       "    <tr>\n",
       "      <th>17</th>\n",
       "      <td>0</td>\n",
       "      <td>factbox trump twitter sept 25 nascar nfl john...</td>\n",
       "    </tr>\n",
       "    <tr>\n",
       "      <th>18</th>\n",
       "      <td>0</td>\n",
       "      <td>judge decline dismiss bribery charge u senato...</td>\n",
       "    </tr>\n",
       "    <tr>\n",
       "      <th>19</th>\n",
       "      <td>1</td>\n",
       "      <td>father of benghazi victim ty wood speaks up a...</td>\n",
       "    </tr>\n",
       "  </tbody>\n",
       "</table>\n",
       "</div>"
      ],
      "text/plain": [
       "    label                                              total\n",
       "0       1   breaking gop chairman grassley ha had enough ...\n",
       "1       1   failed gop candidate remembered in hilarious ...\n",
       "2       1   mike pences new dc neighbor are hilariously t...\n",
       "3       0   california ag pledge defend birth control ins...\n",
       "4       1   az rancher living on usmexico border destroy ...\n",
       "5       0   a private lawyer trump high court pick friend...\n",
       "6       0   yemeni salafist imam killed aden source aden ...\n",
       "7       0   fbi say witness u probe malaysia 1mdb fear sa...\n",
       "8       1   an easy to read chart show how bernie sander ...\n",
       "9       1   mma fighter jake shield embarrasses coward in...\n",
       "10      1   tired of thing going well marco rubio make pr...\n",
       "11      0   yemen air strike kill eight woman two child s...\n",
       "12      1   breaking wdbj killer wa angry black democratr...\n",
       "13      1   list of 22 time obama called phony climate ch...\n",
       "14      0   indopacific not china sitting beijingnew delh...\n",
       "15      1   art contest winner disqualified being trump s...\n",
       "16      0   lip teeth china tie north korea fray beijing ...\n",
       "17      0   factbox trump twitter sept 25 nascar nfl john...\n",
       "18      0   judge decline dismiss bribery charge u senato...\n",
       "19      1   father of benghazi victim ty wood speaks up a..."
      ]
     },
     "execution_count": 25,
     "metadata": {},
     "output_type": "execute_result"
    }
   ],
   "source": [
    "df.head(20)"
   ]
  },
  {
   "cell_type": "code",
   "execution_count": 26,
   "id": "39ea617b",
   "metadata": {},
   "outputs": [
    {
     "data": {
      "text/plain": [
       "1    0.522985\n",
       "0    0.477015\n",
       "Name: label, dtype: float64"
      ]
     },
     "execution_count": 26,
     "metadata": {},
     "output_type": "execute_result"
    }
   ],
   "source": [
    "df['label'].value_counts(normalize=True)"
   ]
  },
  {
   "cell_type": "code",
   "execution_count": 27,
   "id": "78bad679",
   "metadata": {},
   "outputs": [],
   "source": [
    "df = df.groupby('label', group_keys=False).apply(lambda x: x.sample(frac=0.54)).reset_index().drop(columns=['index'])"
   ]
  },
  {
   "cell_type": "code",
   "execution_count": 28,
   "id": "2aa1bc94",
   "metadata": {},
   "outputs": [
    {
     "data": {
      "text/plain": [
       "1    0.522994\n",
       "0    0.477006\n",
       "Name: label, dtype: float64"
      ]
     },
     "execution_count": 28,
     "metadata": {},
     "output_type": "execute_result"
    }
   ],
   "source": [
    "df['label'].value_counts(normalize=True)"
   ]
  },
  {
   "cell_type": "code",
   "execution_count": 29,
   "id": "oqEAyd5pvzLl",
   "metadata": {
    "id": "oqEAyd5pvzLl"
   },
   "outputs": [],
   "source": [
    "#df.to_csv(\"./dataset/ISOT_News_dataset/cleaned_dataset_after_index_dropped.csv\")"
   ]
  },
  {
   "cell_type": "code",
   "execution_count": 30,
   "id": "20b56ffc",
   "metadata": {},
   "outputs": [
    {
     "data": {
      "image/png": "[encoded data removed]",
      "text/plain": [
       "<Figure size 1600x900 with 1 Axes>"
      ]
     },
     "metadata": {},
     "output_type": "display_data"
    }
   ],
   "source": [
    "import seaborn as sns\n",
    "import matplotlib.pyplot as plt\n",
    "\n",
    "plt.figure(figsize=(16,9))\n",
    "\n",
    "#sns.countplot(df.label)\n",
    "sns.countplot(data=df, x='label')\n",
    "\n",
    "plt.title('Total Fake and Real News Articles', fontsize=24)\n",
    "plt.ylabel('Total', fontsize=16)\n",
    "plt.xlabel('')\n",
    "plt.xticks([1, 0], ['Fake', 'Real'], fontsize=16)\n",
    "\n",
    "plt.show()"
   ]
  },
  {
   "cell_type": "markdown",
   "id": "023f1cb4",
   "metadata": {
    "id": "023f1cb4"
   },
   "source": [
    "# Vectorization"
   ]
  },
  {
   "cell_type": "code",
   "execution_count": 31,
   "id": "0507913e",
   "metadata": {
    "id": "0507913e"
   },
   "outputs": [],
   "source": [
    "X_train = df['total']\n",
    "Y_train = df['label']"
   ]
  },
  {
   "cell_type": "code",
   "execution_count": 32,
   "id": "3dc5921a",
   "metadata": {
    "id": "3dc5921a"
   },
   "outputs": [],
   "source": [
    "#Feature extraction using count vectorization and tfidf.\n",
    "count_vectorizer = CountVectorizer()\n",
    "count_vectorizer.fit_transform(X_train)\n",
    "freq_term_matrix = count_vectorizer.transform(X_train)\n",
    "tfidf = TfidfTransformer(norm=\"l2\")\n",
    "tfidf.fit(freq_term_matrix)\n",
    "tf_idf_matrix = tfidf.fit_transform(freq_term_matrix)"
   ]
  },
  {
   "cell_type": "code",
   "execution_count": 33,
   "id": "cde7cfb0",
   "metadata": {
    "colab": {
     "base_uri": "https://localhost:8080/"
    },
    "id": "cde7cfb0",
    "outputId": "5f80bf33-b897-4893-b72a-062379a64edf"
   },
   "outputs": [
    {
     "data": {
      "text/plain": [
       "<24245x160536 sparse matrix of type '<class 'numpy.float64'>'\n",
       "\twith 4138517 stored elements in Compressed Sparse Row format>"
      ]
     },
     "execution_count": 33,
     "metadata": {},
     "output_type": "execute_result"
    }
   ],
   "source": [
    "tf_idf_matrix"
   ]
  },
  {
   "cell_type": "markdown",
   "id": "3f803e3d",
   "metadata": {
    "id": "3f803e3d"
   },
   "source": [
    "# Modeling"
   ]
  },
  {
   "cell_type": "code",
   "execution_count": 34,
   "id": "6e315e9f",
   "metadata": {},
   "outputs": [],
   "source": [
    "test_counts = count_vectorizer.transform(df['total'].values)\n",
    "test_tfidf = tfidf.transform(test_counts)\n",
    "\n",
    "from sklearn.model_selection import StratifiedShuffleSplit\n",
    "\n",
    "# Sample data (replace this with your dataset)\n",
    "X = tf_idf_matrix  # Features\n",
    "y = Y_train    # Target labels (0 or 1)\n",
    "\n",
    "# Create an instance of StratifiedShuffleSplit\n",
    "sss = StratifiedShuffleSplit(n_splits=10, test_size=0.2, random_state=42)\n",
    "sss.get_n_splits(X, y)\n",
    "\n",
    "# Perform the split\n",
    "for train_index, test_index in sss.split(X, y):\n",
    "    X_train, X_test = X[train_index], X[test_index]\n",
    "    y_train, y_test = y[train_index], y[test_index]\n",
    "\n",
    "# Now, X_train and y_train contain the training data and labels, and X_test and y_test contain the test data and labelss\n"
   ]
  },
  {
   "cell_type": "code",
   "execution_count": 35,
   "id": "8eb81d45",
   "metadata": {
    "colab": {
     "base_uri": "https://localhost:8080/"
    },
    "id": "8eb81d45",
    "outputId": "bb0d00ab-573e-4b60-a3cc-e94ae7ecd048"
   },
   "outputs": [
    {
     "name": "stdout",
     "output_type": "stream",
     "text": [
      "(19396, 160536) (4849, 160536)\n"
     ]
    }
   ],
   "source": [
    "print(X_train.shape, X_test.shape)"
   ]
  },
  {
   "cell_type": "code",
   "execution_count": 36,
   "id": "c5217704",
   "metadata": {
    "colab": {
     "base_uri": "https://localhost:8080/"
    },
    "id": "c5217704",
    "outputId": "d6434262-dfba-4866-d0d4-63380d4c9364"
   },
   "outputs": [
    {
     "name": "stdout",
     "output_type": "stream",
     "text": [
      "(19396,) (4849,)\n"
     ]
    }
   ],
   "source": [
    "print(y_train.shape, y_test.shape)"
   ]
  },
  {
   "cell_type": "code",
   "execution_count": 37,
   "id": "6c79803e",
   "metadata": {
    "id": "6c79803e"
   },
   "outputs": [],
   "source": [
    "from sklearn.metrics import confusion_matrix, ConfusionMatrixDisplay, classification_report"
   ]
  },
  {
   "cell_type": "markdown",
   "id": "336b10ae",
   "metadata": {
    "id": "336b10ae"
   },
   "source": [
    "# Training and Evaluation"
   ]
  },
  {
   "cell_type": "code",
   "execution_count": 38,
   "id": "09d6706d",
   "metadata": {
    "colab": {
     "base_uri": "https://localhost:8080/",
     "height": 649
    },
    "id": "09d6706d",
    "outputId": "31f16a4a-455c-4ef1-9521-776b52eff054"
   },
   "outputs": [
    {
     "name": "stdout",
     "output_type": "stream",
     "text": [
      "Accuracy of Logistic classifier on training set: 1.00\n",
      "Accuracy of Logistic classifier on test set: 0.99\n",
      "====================================\n",
      "Model Precison:  0.9960489924930858\n",
      "Model Recall Score:  0.9940851735015773\n",
      "Model F1 Score:  0.9950661140714426\n",
      "Model Accuracy Score:  0.9948442977933595\n",
      "====================================\n",
      "classification_report: \n",
      "              precision    recall  f1-score   support\n",
      "\n",
      "           0       0.99      1.00      0.99      2313\n",
      "           1       1.00      0.99      1.00      2536\n",
      "\n",
      "    accuracy                           0.99      4849\n",
      "   macro avg       0.99      0.99      0.99      4849\n",
      "weighted avg       0.99      0.99      0.99      4849\n",
      "\n"
     ]
    },
    {
     "data": {
      "text/plain": [
       "<sklearn.metrics._plot.confusion_matrix.ConfusionMatrixDisplay at 0x22e9f379a20>"
      ]
     },
     "execution_count": 38,
     "metadata": {},
     "output_type": "execute_result"
    },
    {
     "data": {
      "image/png": "[encoded data removed]",
      "text/plain": [
       "<Figure size 640x480 with 2 Axes>"
      ]
     },
     "metadata": {},
     "output_type": "display_data"
    }
   ],
   "source": [
    "# DEMO\n",
    "from sklearn.metrics import precision_score, recall_score, f1_score, accuracy_score\n",
    "from sklearn.linear_model import LogisticRegression\n",
    "logreg = LogisticRegression(C=1e5)\n",
    "logreg.fit(X_train, y_train)\n",
    "pred = logreg.predict(X_test)\n",
    "print('Accuracy of Logistic classifier on training set: {:.2f}'.format(logreg.score(X_train, y_train)))\n",
    "print('Accuracy of Logistic classifier on test set: {:.2f}'.format(logreg.score(X_test, y_test)))\n",
    "print('====================================')\n",
    "print('Model Precison: ', precision_score(y_test, pred))\n",
    "print('Model Recall Score: ', recall_score(y_test, pred))\n",
    "print('Model F1 Score: ', f1_score(y_test, pred))\n",
    "print('Model Accuracy Score: ', accuracy_score(y_test, pred))\n",
    "print('====================================')\n",
    "print('classification_report: ')\n",
    "print(classification_report(y_test, pred))\n",
    "cm = confusion_matrix(y_test, pred)\n",
    "cm\n",
    "ConfusionMatrixDisplay.from_predictions(y_test,pred)"
   ]
  },
  {
   "cell_type": "code",
   "execution_count": 50,
   "id": "13161897",
   "metadata": {
    "id": "13161897"
   },
   "outputs": [],
   "source": [
    "def get_evaluation_result(model, X_train, X_test, y_train, y_test):\n",
    "    model.fit(X_train, y_train)\n",
    "    pred = model.predict(X_test)\n",
    "    \n",
    "    # Calculate metrics\n",
    "    accuracy = accuracy_score(y_test, pred)\n",
    "    precision = precision_score(y_test, pred)\n",
    "    recall = recall_score(y_test, pred)\n",
    "    f1 = f1_score(y_test, pred)\n",
    "    mcc = matthews_corrcoef(y_test, pred)\n",
    "    kappa = cohen_kappa_score(y_test, pred)\n",
    "    roc_auc = roc_auc_score(y_test, pred)\n",
    "    \n",
    "    print('Accuracy of Logistic classifier on training set: {:.2f}'.format(logreg.score(X_train, y_train)))\n",
    "    print('Accuracy of Logistic classifier on test set: {:.2f}'.format(logreg.score(X_test, y_test)))\n",
    "    print('====================================')\n",
    "    # Print the results\n",
    "    print(f\"Accuracy: {accuracy}\")\n",
    "    print(f\"Precision: {precision}\")\n",
    "    print(f\"Recall: {recall}\")\n",
    "    print(f\"F1 Score: {f1}\")\n",
    "    print(f\"Matthews Correlation Coefficient: {mcc}\")\n",
    "    print(f\"Cohen's Kappa: {kappa}\")\n",
    "    print(f\"AUC-ROC: {roc_auc}\")\n",
    "    print('====================================')\n",
    "    print('classification_report: ')\n",
    "    print(classification_report(y_test, pred))\n",
    "    \n",
    "    cm = confusion_matrix(y_test, pred)\n",
    "    cm\n",
    "    ConfusionMatrixDisplay.from_predictions(y_test,pred)"
   ]
  },
  {
   "cell_type": "markdown",
   "id": "8773aae5",
   "metadata": {
    "id": "8773aae5"
   },
   "source": [
    "# 1. “lbfgs” Logistic Regression"
   ]
  },
  {
   "cell_type": "code",
   "execution_count": 40,
   "id": "b7e178e4",
   "metadata": {
    "colab": {
     "base_uri": "https://localhost:8080/",
     "height": 649
    },
    "id": "b7e178e4",
    "outputId": "94a4ab3c-5866-4f26-c9f6-d05bb7c88596"
   },
   "outputs": [
    {
     "name": "stdout",
     "output_type": "stream",
     "text": [
      "Accuracy of Logistic classifier on training set: 1.00\n",
      "Accuracy of Logistic classifier on test set: 0.99\n",
      "====================================\n",
      "Model Precison: 0.99\n",
      "Model Recall Score: 0.99\n",
      "Model F1 Score: 0.99\n",
      "Model Accuracy Score: 0.98\n",
      "====================================\n",
      "classification_report: \n",
      "              precision    recall  f1-score   support\n",
      "\n",
      "           0       0.98      0.98      0.98      2313\n",
      "           1       0.99      0.99      0.99      2536\n",
      "\n",
      "    accuracy                           0.98      4849\n",
      "   macro avg       0.98      0.98      0.98      4849\n",
      "weighted avg       0.98      0.98      0.98      4849\n",
      "\n"
     ]
    },
    {
     "data": {
      "image/png": "[encoded data removed]",
      "text/plain": [
       "<Figure size 640x480 with 2 Axes>"
      ]
     },
     "metadata": {},
     "output_type": "display_data"
    }
   ],
   "source": [
    "from sklearn.linear_model import LogisticRegression\n",
    "lbfgs = LogisticRegression(solver='lbfgs')\n",
    "\n",
    "get_evaluation_result(lbfgs, X_train, X_test, y_train, y_test)"
   ]
  },
  {
   "cell_type": "markdown",
   "id": "87ae5007",
   "metadata": {
    "id": "87ae5007"
   },
   "source": [
    "# 2. “liblinear” Logistic Regression"
   ]
  },
  {
   "cell_type": "code",
   "execution_count": 41,
   "id": "18b1055d",
   "metadata": {
    "colab": {
     "base_uri": "https://localhost:8080/",
     "height": 649
    },
    "id": "18b1055d",
    "outputId": "46f7189c-a788-49a8-cda5-692fbf0cf16c"
   },
   "outputs": [
    {
     "name": "stdout",
     "output_type": "stream",
     "text": [
      "Accuracy of Logistic classifier on training set: 1.00\n",
      "Accuracy of Logistic classifier on test set: 0.99\n",
      "====================================\n",
      "Model Precison: 0.99\n",
      "Model Recall Score: 0.99\n",
      "Model F1 Score: 0.99\n",
      "Model Accuracy Score: 0.98\n",
      "====================================\n",
      "classification_report: \n",
      "              precision    recall  f1-score   support\n",
      "\n",
      "           0       0.98      0.98      0.98      2313\n",
      "           1       0.99      0.99      0.99      2536\n",
      "\n",
      "    accuracy                           0.98      4849\n",
      "   macro avg       0.98      0.98      0.98      4849\n",
      "weighted avg       0.98      0.98      0.98      4849\n",
      "\n"
     ]
    },
    {
     "data": {
      "image/png": "[encoded data removed]",
      "text/plain": [
       "<Figure size 640x480 with 2 Axes>"
      ]
     },
     "metadata": {},
     "output_type": "display_data"
    }
   ],
   "source": [
    "liblinear = LogisticRegression(solver='liblinear')\n",
    "\n",
    "get_evaluation_result(liblinear, X_train, X_test, y_train, y_test)"
   ]
  },
  {
   "cell_type": "markdown",
   "id": "3cfab38a",
   "metadata": {
    "id": "3cfab38a"
   },
   "source": [
    "# 3. “newton-cg” Logistic Regression"
   ]
  },
  {
   "cell_type": "code",
   "execution_count": 42,
   "id": "a73c047e",
   "metadata": {
    "colab": {
     "base_uri": "https://localhost:8080/",
     "height": 649
    },
    "id": "a73c047e",
    "outputId": "db4f9e20-26a0-46c7-d30b-93b94ffdacdc"
   },
   "outputs": [
    {
     "name": "stdout",
     "output_type": "stream",
     "text": [
      "Accuracy of Logistic classifier on training set: 1.00\n",
      "Accuracy of Logistic classifier on test set: 0.99\n",
      "====================================\n",
      "Model Precison: 0.99\n",
      "Model Recall Score: 0.99\n",
      "Model F1 Score: 0.99\n",
      "Model Accuracy Score: 0.98\n",
      "====================================\n",
      "classification_report: \n",
      "              precision    recall  f1-score   support\n",
      "\n",
      "           0       0.98      0.98      0.98      2313\n",
      "           1       0.99      0.99      0.99      2536\n",
      "\n",
      "    accuracy                           0.98      4849\n",
      "   macro avg       0.98      0.98      0.98      4849\n",
      "weighted avg       0.98      0.98      0.98      4849\n",
      "\n"
     ]
    },
    {
     "data": {
      "image/png": "[encoded data removed]",
      "text/plain": [
       "<Figure size 640x480 with 2 Axes>"
      ]
     },
     "metadata": {},
     "output_type": "display_data"
    }
   ],
   "source": [
    "newton_cg = LogisticRegression(solver='newton-cg')\n",
    "\n",
    "get_evaluation_result(newton_cg, X_train, X_test, y_train, y_test)"
   ]
  },
  {
   "cell_type": "markdown",
   "id": "c9e68ec1",
   "metadata": {
    "id": "c9e68ec1"
   },
   "source": [
    "# 4. “sag” Logistic Regression"
   ]
  },
  {
   "cell_type": "code",
   "execution_count": 43,
   "id": "0b2acbda",
   "metadata": {
    "colab": {
     "base_uri": "https://localhost:8080/",
     "height": 649
    },
    "id": "0b2acbda",
    "outputId": "2e222e56-f955-45a2-e047-f376b41481d9"
   },
   "outputs": [
    {
     "name": "stdout",
     "output_type": "stream",
     "text": [
      "Accuracy of Logistic classifier on training set: 1.00\n",
      "Accuracy of Logistic classifier on test set: 0.99\n",
      "====================================\n",
      "Model Precison: 0.99\n",
      "Model Recall Score: 0.99\n",
      "Model F1 Score: 0.99\n",
      "Model Accuracy Score: 0.98\n",
      "====================================\n",
      "classification_report: \n",
      "              precision    recall  f1-score   support\n",
      "\n",
      "           0       0.98      0.98      0.98      2313\n",
      "           1       0.99      0.99      0.99      2536\n",
      "\n",
      "    accuracy                           0.98      4849\n",
      "   macro avg       0.98      0.98      0.98      4849\n",
      "weighted avg       0.98      0.98      0.98      4849\n",
      "\n"
     ]
    },
    {
     "data": {
      "image/png": "[encoded data removed]",
      "text/plain": [
       "<Figure size 640x480 with 2 Axes>"
      ]
     },
     "metadata": {},
     "output_type": "display_data"
    }
   ],
   "source": [
    "sag = LogisticRegression(solver='sag')\n",
    "\n",
    "get_evaluation_result(sag, X_train, X_test, y_train, y_test)"
   ]
  },
  {
   "cell_type": "markdown",
   "id": "e986cf16",
   "metadata": {
    "id": "04a09cf2"
   },
   "source": [
    "# 5. Random Forest Logistic Regression"
   ]
  },
  {
   "cell_type": "code",
   "execution_count": 44,
   "id": "MwVSTMH9d6se",
   "metadata": {
    "colab": {
     "base_uri": "https://localhost:8080/",
     "height": 649
    },
    "id": "MwVSTMH9d6se",
    "outputId": "36fd9b4d-301e-473d-a6c5-5b9264745a36"
   },
   "outputs": [
    {
     "name": "stdout",
     "output_type": "stream",
     "text": [
      "Accuracy of Logistic classifier on training set: 1.00\n",
      "Accuracy of Logistic classifier on test set: 0.99\n",
      "====================================\n",
      "Model Precison: 0.99\n",
      "Model Recall Score: 0.99\n",
      "Model F1 Score: 0.99\n",
      "Model Accuracy Score: 0.99\n",
      "====================================\n",
      "classification_report: \n",
      "              precision    recall  f1-score   support\n",
      "\n",
      "           0       0.99      0.99      0.99      2313\n",
      "           1       0.99      0.99      0.99      2536\n",
      "\n",
      "    accuracy                           0.99      4849\n",
      "   macro avg       0.99      0.99      0.99      4849\n",
      "weighted avg       0.99      0.99      0.99      4849\n",
      "\n"
     ]
    },
    {
     "data": {
      "image/png": "[encoded data removed]",
      "text/plain": [
       "<Figure size 640x480 with 2 Axes>"
      ]
     },
     "metadata": {},
     "output_type": "display_data"
    }
   ],
   "source": [
    "from sklearn.ensemble import RandomForestClassifier\n",
    "rf = RandomForestClassifier(n_estimators=100, random_state=42)\n",
    "\n",
    "get_evaluation_result(rf, X_train, X_test, y_train, y_test)"
   ]
  },
  {
   "cell_type": "markdown",
   "id": "3a03527f",
   "metadata": {
    "id": "wWHzclmyfIsV"
   },
   "source": [
    "# 6. Perceptron"
   ]
  },
  {
   "cell_type": "code",
   "execution_count": 45,
   "id": "VclTd9n6fXDe",
   "metadata": {
    "colab": {
     "base_uri": "https://localhost:8080/",
     "height": 649
    },
    "id": "VclTd9n6fXDe",
    "outputId": "03d5f2f0-3e8a-406c-877f-3b607f39d9fb"
   },
   "outputs": [
    {
     "name": "stdout",
     "output_type": "stream",
     "text": [
      "Accuracy of Logistic classifier on training set: 1.00\n",
      "Accuracy of Logistic classifier on test set: 0.99\n",
      "====================================\n",
      "Model Precison: 0.99\n",
      "Model Recall Score: 0.99\n",
      "Model F1 Score: 0.99\n",
      "Model Accuracy Score: 0.99\n",
      "====================================\n",
      "classification_report: \n",
      "              precision    recall  f1-score   support\n",
      "\n",
      "           0       0.99      0.99      0.99      2313\n",
      "           1       0.99      0.99      0.99      2536\n",
      "\n",
      "    accuracy                           0.99      4849\n",
      "   macro avg       0.99      0.99      0.99      4849\n",
      "weighted avg       0.99      0.99      0.99      4849\n",
      "\n"
     ]
    },
    {
     "data": {
      "image/png": "[encoded data removed]",
      "text/plain": [
       "<Figure size 640x480 with 2 Axes>"
      ]
     },
     "metadata": {},
     "output_type": "display_data"
    }
   ],
   "source": [
    "from sklearn.linear_model import Perceptron\n",
    "\n",
    "perceptron = Perceptron(max_iter=1000, eta0=0.1, random_state=0)\n",
    "get_evaluation_result(perceptron, X_train, X_test, y_train, y_test)"
   ]
  },
  {
   "cell_type": "markdown",
   "id": "b6ff3d54",
   "metadata": {
    "id": "9JNEVCy-jVU8"
   },
   "source": [
    "# 7. RidgeClassifier"
   ]
  },
  {
   "cell_type": "code",
   "execution_count": 46,
   "id": "9B76yBKQjmy2",
   "metadata": {
    "colab": {
     "base_uri": "https://localhost:8080/",
     "height": 649
    },
    "id": "9B76yBKQjmy2",
    "outputId": "6fae38e6-023f-49ee-dad1-123aaa895741"
   },
   "outputs": [
    {
     "name": "stdout",
     "output_type": "stream",
     "text": [
      "Accuracy of Logistic classifier on training set: 1.00\n",
      "Accuracy of Logistic classifier on test set: 0.99\n",
      "====================================\n",
      "Model Precison: 1.00\n",
      "Model Recall Score: 1.00\n",
      "Model F1 Score: 1.00\n",
      "Model Accuracy Score: 1.00\n",
      "====================================\n",
      "classification_report: \n",
      "              precision    recall  f1-score   support\n",
      "\n",
      "           0       0.99      0.99      0.99      2313\n",
      "           1       1.00      1.00      1.00      2536\n",
      "\n",
      "    accuracy                           1.00      4849\n",
      "   macro avg       1.00      1.00      1.00      4849\n",
      "weighted avg       1.00      1.00      1.00      4849\n",
      "\n"
     ]
    },
    {
     "data": {
      "image/png": "[encoded data removed]",
      "text/plain": [
       "<Figure size 640x480 with 2 Axes>"
      ]
     },
     "metadata": {},
     "output_type": "display_data"
    }
   ],
   "source": [
    "from sklearn.linear_model import RidgeClassifier\n",
    "ridge_classifier = RidgeClassifier(alpha=1.0, solver='auto', random_state=0)\n",
    "get_evaluation_result(ridge_classifier, X_train, X_test, y_train, y_test)"
   ]
  },
  {
   "cell_type": "markdown",
   "id": "082a4160",
   "metadata": {
    "id": "WF_r799vkXJv"
   },
   "source": [
    "# 8. CatBoostClassifier"
   ]
  },
  {
   "cell_type": "code",
   "execution_count": 47,
   "id": "nFPdkOSbkX7B",
   "metadata": {
    "id": "nFPdkOSbkX7B"
   },
   "outputs": [
    {
     "name": "stdout",
     "output_type": "stream",
     "text": [
      "Accuracy of Logistic classifier on training set: 1.00\n",
      "Accuracy of Logistic classifier on test set: 0.99\n",
      "====================================\n",
      "Model Precison: 1.00\n",
      "Model Recall Score: 0.99\n",
      "Model F1 Score: 0.99\n",
      "Model Accuracy Score: 0.99\n",
      "====================================\n",
      "classification_report: \n",
      "              precision    recall  f1-score   support\n",
      "\n",
      "           0       0.99      1.00      0.99      2313\n",
      "           1       1.00      0.99      0.99      2536\n",
      "\n",
      "    accuracy                           0.99      4849\n",
      "   macro avg       0.99      0.99      0.99      4849\n",
      "weighted avg       0.99      0.99      0.99      4849\n",
      "\n"
     ]
    },
    {
     "data": {
      "image/png": "[encoded data removed]",
      "text/plain": [
       "<Figure size 640x480 with 2 Axes>"
      ]
     },
     "metadata": {},
     "output_type": "display_data"
    }
   ],
   "source": [
    "from catboost import CatBoostClassifier\n",
    "# Create a CatBoostClassifier instance with specified hyperparameters\n",
    "catboost_classifier = CatBoostClassifier(iterations=100, learning_rate=0.1, depth=6, loss_function='Logloss', verbose=0)\n",
    "\n",
    "get_evaluation_result(catboost_classifier, X_train, X_test, y_train, y_test)"
   ]
  },
  {
   "cell_type": "markdown",
   "id": "8512cdee",
   "metadata": {
    "id": "iOJnIlzNmoR9"
   },
   "source": [
    "# 9. NearestCentroidClassifier"
   ]
  },
  {
   "cell_type": "code",
   "execution_count": 48,
   "id": "8OIfAH31mpU0",
   "metadata": {
    "colab": {
     "base_uri": "https://localhost:8080/",
     "height": 649
    },
    "id": "8OIfAH31mpU0",
    "outputId": "243dc2d7-6d45-4285-ea6c-481ab3b7960b"
   },
   "outputs": [
    {
     "name": "stdout",
     "output_type": "stream",
     "text": [
      "Accuracy of Logistic classifier on training set: 1.00\n",
      "Accuracy of Logistic classifier on test set: 0.99\n",
      "====================================\n",
      "Model Precison: 0.94\n",
      "Model Recall Score: 0.94\n",
      "Model F1 Score: 0.94\n",
      "Model Accuracy Score: 0.94\n",
      "====================================\n",
      "classification_report: \n",
      "              precision    recall  f1-score   support\n",
      "\n",
      "           0       0.94      0.93      0.94      2313\n",
      "           1       0.94      0.94      0.94      2536\n",
      "\n",
      "    accuracy                           0.94      4849\n",
      "   macro avg       0.94      0.94      0.94      4849\n",
      "weighted avg       0.94      0.94      0.94      4849\n",
      "\n"
     ]
    },
    {
     "data": {
      "image/png": "[encoded data removed]",
      "text/plain": [
       "<Figure size 640x480 with 2 Axes>"
      ]
     },
     "metadata": {},
     "output_type": "display_data"
    }
   ],
   "source": [
    "from sklearn.neighbors import NearestCentroid\n",
    "ncc = NearestCentroid()\n",
    "\n",
    "get_evaluation_result(ncc, X_train, X_test, y_train, y_test)"
   ]
  },
  {
   "cell_type": "markdown",
   "id": "1ad0594b",
   "metadata": {
    "id": "l-JG5spxnM_E"
   },
   "source": [
    "# 10. Stochastic Gradient Descent (SGDClassifier)"
   ]
  },
  {
   "cell_type": "code",
   "execution_count": 49,
   "id": "8PaGO0f-nNfF",
   "metadata": {
    "id": "8PaGO0f-nNfF"
   },
   "outputs": [
    {
     "name": "stdout",
     "output_type": "stream",
     "text": [
      "Accuracy of Logistic classifier on training set: 1.00\n",
      "Accuracy of Logistic classifier on test set: 0.99\n",
      "====================================\n",
      "Model Precison: 0.99\n",
      "Model Recall Score: 0.99\n",
      "Model F1 Score: 0.99\n",
      "Model Accuracy Score: 0.99\n",
      "====================================\n",
      "classification_report: \n",
      "              precision    recall  f1-score   support\n",
      "\n",
      "           0       0.99      0.99      0.99      2313\n",
      "           1       0.99      0.99      0.99      2536\n",
      "\n",
      "    accuracy                           0.99      4849\n",
      "   macro avg       0.99      0.99      0.99      4849\n",
      "weighted avg       0.99      0.99      0.99      4849\n",
      "\n"
     ]
    },
    {
     "data": {
      "image/png": "[encoded data removed]",
      "text/plain": [
       "<Figure size 640x480 with 2 Axes>"
      ]
     },
     "metadata": {},
     "output_type": "display_data"
    }
   ],
   "source": [
    "from sklearn.linear_model import SGDClassifier\n",
    "sgd_classifier = SGDClassifier()\n",
    "\n",
    "get_evaluation_result(sgd_classifier, X_train, X_test, y_train, y_test)"
   ]
  },
  {
   "cell_type": "markdown",
   "id": "d4b8b34a",
   "metadata": {
    "id": "rrVv8HVroX3g"
   },
   "source": [
    "# 11. SVC (kernel=”linear”, C=0.025):"
   ]
  },
  {
   "cell_type": "code",
   "execution_count": 51,
   "id": "HcTLd1iloYY0",
   "metadata": {
    "id": "HcTLd1iloYY0"
   },
   "outputs": [
    {
     "name": "stdout",
     "output_type": "stream",
     "text": [
      "Accuracy of Logistic classifier on training set: 1.00\n",
      "Accuracy of Logistic classifier on test set: 0.99\n",
      "====================================\n",
      "Model Precison: 0.98\n",
      "Model Recall Score: 0.97\n",
      "Model F1 Score: 0.97\n",
      "Model Accuracy Score: 0.97\n",
      "====================================\n",
      "classification_report: \n",
      "              precision    recall  f1-score   support\n",
      "\n",
      "           0       0.96      0.97      0.97      2313\n",
      "           1       0.98      0.97      0.97      2536\n",
      "\n",
      "    accuracy                           0.97      4849\n",
      "   macro avg       0.97      0.97      0.97      4849\n",
      "weighted avg       0.97      0.97      0.97      4849\n",
      "\n"
     ]
    },
    {
     "data": {
      "image/png": "[encoded data removed]",
      "text/plain": [
       "<Figure size 640x480 with 2 Axes>"
      ]
     },
     "metadata": {},
     "output_type": "display_data"
    }
   ],
   "source": [
    "from sklearn.svm import SVC\n",
    "svm_lin = SVC(kernel=\"linear\", C=0.025)\n",
    "\n",
    "get_evaluation_result(svm_lin, X_train, X_test, y_train, y_test)"
   ]
  },
  {
   "cell_type": "markdown",
   "id": "85f05aae",
   "metadata": {
    "id": "_xnALbhloZNs"
   },
   "source": [
    "# 12. SVC (gama=2, C=1)"
   ]
  },
  {
   "cell_type": "code",
   "execution_count": 52,
   "id": "oA-hVoEioZgz",
   "metadata": {
    "id": "oA-hVoEioZgz",
    "scrolled": true
   },
   "outputs": [
    {
     "name": "stdout",
     "output_type": "stream",
     "text": [
      "Accuracy of Logistic classifier on training set: 1.00\n",
      "Accuracy of Logistic classifier on test set: 0.99\n",
      "====================================\n",
      "Model Precison: 0.99\n",
      "Model Recall Score: 0.99\n",
      "Model F1 Score: 0.99\n",
      "Model Accuracy Score: 0.99\n",
      "====================================\n",
      "classification_report: \n",
      "              precision    recall  f1-score   support\n",
      "\n",
      "           0       0.99      0.99      0.99      2313\n",
      "           1       0.99      0.99      0.99      2536\n",
      "\n",
      "    accuracy                           0.99      4849\n",
      "   macro avg       0.99      0.99      0.99      4849\n",
      "weighted avg       0.99      0.99      0.99      4849\n",
      "\n"
     ]
    },
    {
     "data": {
      "image/png": "[encoded data removed]",
      "text/plain": [
       "<Figure size 640x480 with 2 Axes>"
      ]
     },
     "metadata": {},
     "output_type": "display_data"
    }
   ],
   "source": [
    "svm_rbf = SVC(kernel=\"rbf\", gamma=2, C=1)\n",
    "\n",
    "get_evaluation_result(svm_rbf, X_train, X_test, y_train, y_test)"
   ]
  },
  {
   "cell_type": "markdown",
   "id": "b8d93a74",
   "metadata": {
    "id": "RjrSVVUnqNz5"
   },
   "source": [
    "# 13. LinearSVC"
   ]
  },
  {
   "cell_type": "code",
   "execution_count": 53,
   "id": "hb2Hq2roqOF9",
   "metadata": {
    "id": "hb2Hq2roqOF9"
   },
   "outputs": [
    {
     "name": "stdout",
     "output_type": "stream",
     "text": [
      "Accuracy of Logistic classifier on training set: 1.00\n",
      "Accuracy of Logistic classifier on test set: 0.99\n",
      "====================================\n",
      "Model Precison: 1.00\n",
      "Model Recall Score: 0.99\n",
      "Model F1 Score: 1.00\n",
      "Model Accuracy Score: 1.00\n",
      "====================================\n",
      "classification_report: \n",
      "              precision    recall  f1-score   support\n",
      "\n",
      "           0       0.99      1.00      1.00      2313\n",
      "           1       1.00      0.99      1.00      2536\n",
      "\n",
      "    accuracy                           1.00      4849\n",
      "   macro avg       1.00      1.00      1.00      4849\n",
      "weighted avg       1.00      1.00      1.00      4849\n",
      "\n"
     ]
    },
    {
     "data": {
      "image/png": "[encoded data removed]",
      "text/plain": [
       "<Figure size 640x480 with 2 Axes>"
      ]
     },
     "metadata": {},
     "output_type": "display_data"
    }
   ],
   "source": [
    "from sklearn.svm import LinearSVC\n",
    "linear_svm_classifier = LinearSVC(C=1.0, random_state=0)\n",
    "\n",
    "get_evaluation_result(linear_svm_classifier, X_train, X_test, y_train, y_test)"
   ]
  },
  {
   "cell_type": "markdown",
   "id": "7af369f0",
   "metadata": {
    "id": "906I7E-lqOWc"
   },
   "source": [
    "# 14. SDGClassifier"
   ]
  },
  {
   "cell_type": "code",
   "execution_count": 54,
   "id": "V2wocNkuqOxM",
   "metadata": {
    "id": "V2wocNkuqOxM"
   },
   "outputs": [
    {
     "name": "stdout",
     "output_type": "stream",
     "text": [
      "Accuracy of Logistic classifier on training set: 1.00\n",
      "Accuracy of Logistic classifier on test set: 0.99\n",
      "====================================\n",
      "Model Precison: 0.99\n",
      "Model Recall Score: 0.99\n",
      "Model F1 Score: 0.99\n",
      "Model Accuracy Score: 0.99\n",
      "====================================\n",
      "classification_report: \n",
      "              precision    recall  f1-score   support\n",
      "\n",
      "           0       0.99      0.99      0.99      2313\n",
      "           1       0.99      0.99      0.99      2536\n",
      "\n",
      "    accuracy                           0.99      4849\n",
      "   macro avg       0.99      0.99      0.99      4849\n",
      "weighted avg       0.99      0.99      0.99      4849\n",
      "\n"
     ]
    },
    {
     "data": {
      "image/png": "[encoded data removed]",
      "text/plain": [
       "<Figure size 640x480 with 2 Axes>"
      ]
     },
     "metadata": {},
     "output_type": "display_data"
    }
   ],
   "source": [
    "from sklearn.linear_model import SGDClassifier\n",
    "# Create an SGDClassifier instance with hinge loss (SVM-like behavior), L2 regularization, and an initial learning rate (eta0)\n",
    "sgd_classifier = SGDClassifier(loss='hinge', penalty='l2', alpha=0.0001, eta0=0.01, random_state=0, max_iter=1000)\n",
    "\n",
    "get_evaluation_result(sgd_classifier, X_train, X_test, y_train, y_test)"
   ]
  },
  {
   "cell_type": "markdown",
   "id": "2e201853",
   "metadata": {
    "id": "ay8DRw3oqPFr"
   },
   "source": [
    "# 15. ZeroR"
   ]
  },
  {
   "cell_type": "code",
   "execution_count": 55,
   "id": "_-pQ_gxnreQL",
   "metadata": {
    "id": "_-pQ_gxnreQL"
   },
   "outputs": [
    {
     "name": "stdout",
     "output_type": "stream",
     "text": [
      "Accuracy of Logistic classifier on training set: 1.00\n",
      "Accuracy of Logistic classifier on test set: 0.99\n",
      "====================================\n",
      "Model Precison: 0.52\n",
      "Model Recall Score: 1.00\n",
      "Model F1 Score: 0.69\n",
      "Model Accuracy Score: 0.52\n",
      "====================================\n",
      "classification_report: \n",
      "              precision    recall  f1-score   support\n",
      "\n",
      "           0       0.00      0.00      0.00      2313\n",
      "           1       0.52      1.00      0.69      2536\n",
      "\n",
      "    accuracy                           0.52      4849\n",
      "   macro avg       0.26      0.50      0.34      4849\n",
      "weighted avg       0.27      0.52      0.36      4849\n",
      "\n"
     ]
    },
    {
     "name": "stderr",
     "output_type": "stream",
     "text": [
      "C:\\Users\\Dac\\anaconda3\\lib\\site-packages\\sklearn\\metrics\\_classification.py:1344: UndefinedMetricWarning: Precision and F-score are ill-defined and being set to 0.0 in labels with no predicted samples. Use `zero_division` parameter to control this behavior.\n",
      "  _warn_prf(average, modifier, msg_start, len(result))\n",
      "C:\\Users\\Dac\\anaconda3\\lib\\site-packages\\sklearn\\metrics\\_classification.py:1344: UndefinedMetricWarning: Precision and F-score are ill-defined and being set to 0.0 in labels with no predicted samples. Use `zero_division` parameter to control this behavior.\n",
      "  _warn_prf(average, modifier, msg_start, len(result))\n",
      "C:\\Users\\Dac\\anaconda3\\lib\\site-packages\\sklearn\\metrics\\_classification.py:1344: UndefinedMetricWarning: Precision and F-score are ill-defined and being set to 0.0 in labels with no predicted samples. Use `zero_division` parameter to control this behavior.\n",
      "  _warn_prf(average, modifier, msg_start, len(result))\n"
     ]
    },
    {
     "data": {
      "image/png": "[encoded data removed]",
      "text/plain": [
       "<Figure size 640x480 with 2 Axes>"
      ]
     },
     "metadata": {},
     "output_type": "display_data"
    }
   ],
   "source": [
    "from sklearn.dummy import DummyClassifier\n",
    "\n",
    "# Create a ZeroR classifier\n",
    "zeror_model = DummyClassifier(strategy=\"most_frequent\")\n",
    "\n",
    "get_evaluation_result(zeror_model, X_train, X_test, y_train, y_test)"
   ]
  },
  {
   "cell_type": "markdown",
   "id": "f5a05f50",
   "metadata": {
    "id": "wbrCtAY3reKs"
   },
   "source": [
    "# 16. DecisionTreeClassifier"
   ]
  },
  {
   "cell_type": "code",
   "execution_count": 56,
   "id": "7Lb9y2vXreGS",
   "metadata": {
    "id": "7Lb9y2vXreGS"
   },
   "outputs": [
    {
     "name": "stdout",
     "output_type": "stream",
     "text": [
      "Accuracy of Logistic classifier on training set: 1.00\n",
      "Accuracy of Logistic classifier on test set: 0.99\n",
      "====================================\n",
      "Model Precison: 0.99\n",
      "Model Recall Score: 0.99\n",
      "Model F1 Score: 0.99\n",
      "Model Accuracy Score: 0.99\n",
      "====================================\n",
      "classification_report: \n",
      "              precision    recall  f1-score   support\n",
      "\n",
      "           0       0.99      0.99      0.99      2313\n",
      "           1       0.99      0.99      0.99      2536\n",
      "\n",
      "    accuracy                           0.99      4849\n",
      "   macro avg       0.99      0.99      0.99      4849\n",
      "weighted avg       0.99      0.99      0.99      4849\n",
      "\n"
     ]
    },
    {
     "data": {
      "image/png": "[encoded data removed]",
      "text/plain": [
       "<Figure size 640x480 with 2 Axes>"
      ]
     },
     "metadata": {},
     "output_type": "display_data"
    }
   ],
   "source": [
    "from sklearn.tree import DecisionTreeClassifier\n",
    "dt_classifier = DecisionTreeClassifier(max_depth=None, min_samples_split=2, min_samples_leaf=1, random_state=0)\n",
    "\n",
    "get_evaluation_result(dt_classifier, X_train, X_test, y_train, y_test)"
   ]
  },
  {
   "cell_type": "markdown",
   "id": "ac75fac3",
   "metadata": {
    "id": "5WkmJn1grd_E"
   },
   "source": [
    "# 17.Passive Aggressive (PassiveAggressiveClassifier)"
   ]
  },
  {
   "cell_type": "code",
   "execution_count": 57,
   "id": "mNSMEzV0rd6u",
   "metadata": {
    "id": "mNSMEzV0rd6u"
   },
   "outputs": [
    {
     "name": "stdout",
     "output_type": "stream",
     "text": [
      "Accuracy of Logistic classifier on training set: 1.00\n",
      "Accuracy of Logistic classifier on test set: 0.99\n",
      "====================================\n",
      "Model Precison: 1.00\n",
      "Model Recall Score: 0.99\n",
      "Model F1 Score: 0.99\n",
      "Model Accuracy Score: 0.99\n",
      "====================================\n",
      "classification_report: \n",
      "              precision    recall  f1-score   support\n",
      "\n",
      "           0       0.99      1.00      0.99      2313\n",
      "           1       1.00      0.99      0.99      2536\n",
      "\n",
      "    accuracy                           0.99      4849\n",
      "   macro avg       0.99      0.99      0.99      4849\n",
      "weighted avg       0.99      0.99      0.99      4849\n",
      "\n"
     ]
    },
    {
     "data": {
      "image/png": "[encoded data removed]",
      "text/plain": [
       "<Figure size 640x480 with 2 Axes>"
      ]
     },
     "metadata": {},
     "output_type": "display_data"
    }
   ],
   "source": [
    "from sklearn.linear_model import PassiveAggressiveClassifier\n",
    "pa_classifier = PassiveAggressiveClassifier(C=1.0, random_state=0, max_iter=1000)\n",
    "\n",
    "get_evaluation_result(pa_classifier, X_train, X_test, y_train, y_test)"
   ]
  },
  {
   "cell_type": "markdown",
   "id": "2464197e",
   "metadata": {
    "id": "iwm-GZDwrduN"
   },
   "source": [
    "# 18.ExtraTreeClassifier"
   ]
  },
  {
   "cell_type": "code",
   "execution_count": 58,
   "id": "FFLsiPGWrdZM",
   "metadata": {
    "id": "FFLsiPGWrdZM"
   },
   "outputs": [
    {
     "name": "stdout",
     "output_type": "stream",
     "text": [
      "Accuracy of Logistic classifier on training set: 1.00\n",
      "Accuracy of Logistic classifier on test set: 0.99\n",
      "====================================\n",
      "Model Precison: 0.99\n",
      "Model Recall Score: 0.99\n",
      "Model F1 Score: 0.99\n",
      "Model Accuracy Score: 0.99\n",
      "====================================\n",
      "classification_report: \n",
      "              precision    recall  f1-score   support\n",
      "\n",
      "           0       0.98      0.99      0.98      2313\n",
      "           1       0.99      0.99      0.99      2536\n",
      "\n",
      "    accuracy                           0.99      4849\n",
      "   macro avg       0.99      0.99      0.99      4849\n",
      "weighted avg       0.99      0.99      0.99      4849\n",
      "\n"
     ]
    },
    {
     "data": {
      "image/png": "[encoded data removed]",
      "text/plain": [
       "<Figure size 640x480 with 2 Axes>"
      ]
     },
     "metadata": {},
     "output_type": "display_data"
    }
   ],
   "source": [
    "from sklearn.ensemble import ExtraTreesClassifier\n",
    "extra_tree_classifier = ExtraTreesClassifier(n_estimators=100, random_state=0)\n",
    "\n",
    "get_evaluation_result(extra_tree_classifier, X_train, X_test, y_train, y_test)"
   ]
  },
  {
   "cell_type": "markdown",
   "id": "b154a68a",
   "metadata": {
    "id": "RKHic-XHr4fv"
   },
   "source": [
    "# 19.Random Patches"
   ]
  },
  {
   "cell_type": "code",
   "execution_count": 59,
   "id": "3q9h9jRyr4aU",
   "metadata": {
    "id": "3q9h9jRyr4aU"
   },
   "outputs": [
    {
     "name": "stdout",
     "output_type": "stream",
     "text": [
      "Accuracy of Logistic classifier on training set: 1.00\n",
      "Accuracy of Logistic classifier on test set: 0.99\n",
      "====================================\n",
      "Model Precison: 1.00\n",
      "Model Recall Score: 0.99\n",
      "Model F1 Score: 1.00\n",
      "Model Accuracy Score: 1.00\n",
      "====================================\n",
      "classification_report: \n",
      "              precision    recall  f1-score   support\n",
      "\n",
      "           0       0.99      1.00      1.00      2313\n",
      "           1       1.00      0.99      1.00      2536\n",
      "\n",
      "    accuracy                           1.00      4849\n",
      "   macro avg       1.00      1.00      1.00      4849\n",
      "weighted avg       1.00      1.00      1.00      4849\n",
      "\n"
     ]
    },
    {
     "data": {
      "image/png": "[encoded data removed]",
      "text/plain": [
       "<Figure size 640x480 with 2 Axes>"
      ]
     },
     "metadata": {},
     "output_type": "display_data"
    }
   ],
   "source": [
    "from sklearn.ensemble import BaggingClassifier\n",
    "from sklearn.tree import DecisionTreeClassifier\n",
    "\n",
    "# Create a base learner (e.g., Decision Tree)\n",
    "base_learner = DecisionTreeClassifier()\n",
    "\n",
    "# Create a BaggingClassifier with Random Patches\n",
    "bagging = BaggingClassifier(base_learner, max_samples=0.8, max_features=0.8, n_estimators=10, random_state=42)\n",
    "\n",
    "get_evaluation_result(bagging, X_train, X_test, y_train, y_test)"
   ]
  },
  {
   "cell_type": "markdown",
   "id": "bc9f5d80",
   "metadata": {
    "id": "jrn6OoCkr4XM"
   },
   "source": [
    "# 20.VotingClassifier"
   ]
  },
  {
   "cell_type": "code",
   "execution_count": null,
   "id": "9r9nCmwBr4T_",
   "metadata": {
    "id": "9r9nCmwBr4T_"
   },
   "outputs": [],
   "source": [
    "from sklearn.ensemble import VotingClassifier\n",
    "\n",
    "# Define individual classifiers\n",
    "classifier1 = DecisionTreeClassifier()\n",
    "classifier2 = SVC(probability=True)  # Use probability=True for soft voting\n",
    "classifier3 = RandomForestClassifier()\n",
    "\n",
    "# Create a VotingClassifier instance with soft voting\n",
    "voting_classifier = VotingClassifier(estimators=[\n",
    "    ('decision_tree', classifier1),\n",
    "    ('svm', classifier2),\n",
    "    ('random_forest', classifier3)\n",
    "], voting='soft')  # You can also use 'hard' for hard voting\n",
    "\n",
    "get_evaluation_result(voting_classifier, X_train, X_test, y_train, y_test)"
   ]
  },
  {
   "cell_type": "markdown",
   "id": "8b1ae023",
   "metadata": {
    "id": "abV4HlODr4RF"
   },
   "source": [
    "# 21. Stacked_generalization"
   ]
  },
  {
   "cell_type": "code",
   "execution_count": null,
   "id": "fxYfkBKjr4Nl",
   "metadata": {
    "id": "fxYfkBKjr4Nl"
   },
   "outputs": [],
   "source": [
    "from sklearn.ensemble import StackingClassifier\n",
    "from sklearn.ensemble import GradientBoostingClassifier\n",
    "\n",
    "# Define base models\n",
    "base_models = [\n",
    "    ('rf', RandomForestClassifier(n_estimators=100, random_state=0)),\n",
    "    ('svc', SVC(probability=True)),\n",
    "    ('gb', GradientBoostingClassifier(n_estimators=100, random_state=0))\n",
    "]\n",
    "\n",
    "# Define the meta-model\n",
    "meta_model = LogisticRegression()\n",
    "\n",
    "# Create a StackingClassifier instance\n",
    "stacked_model = StackingClassifier(estimators=base_models, final_estimator=meta_model)\n",
    "\n",
    "get_evaluation_result(stacked_model, X_train, X_test, y_train, y_test)"
   ]
  },
  {
   "cell_type": "markdown",
   "id": "2962f318",
   "metadata": {
    "id": "Vw9ZYa5Rr4KM"
   },
   "source": [
    "# 22.MLPClassifier:"
   ]
  },
  {
   "cell_type": "code",
   "execution_count": 60,
   "id": "ljzJY7Edr3-F",
   "metadata": {
    "id": "ljzJY7Edr3-F"
   },
   "outputs": [
    {
     "name": "stdout",
     "output_type": "stream",
     "text": [
      "Accuracy of Logistic classifier on training set: 1.00\n",
      "Accuracy of Logistic classifier on test set: 0.99\n",
      "====================================\n",
      "Model Precison: 0.99\n",
      "Model Recall Score: 0.99\n",
      "Model F1 Score: 0.99\n",
      "Model Accuracy Score: 0.99\n",
      "====================================\n",
      "classification_report: \n",
      "              precision    recall  f1-score   support\n",
      "\n",
      "           0       0.99      0.99      0.99      2313\n",
      "           1       0.99      0.99      0.99      2536\n",
      "\n",
      "    accuracy                           0.99      4849\n",
      "   macro avg       0.99      0.99      0.99      4849\n",
      "weighted avg       0.99      0.99      0.99      4849\n",
      "\n"
     ]
    },
    {
     "data": {
      "image/png": "[encoded data removed]",
      "text/plain": [
       "<Figure size 640x480 with 2 Axes>"
      ]
     },
     "metadata": {},
     "output_type": "display_data"
    }
   ],
   "source": [
    "from sklearn.neural_network import MLPClassifier\n",
    "\n",
    "# Create an MLPClassifier instance with specified architecture and hyperparameters\n",
    "mlp_classifier = MLPClassifier(hidden_layer_sizes=(100, 50), activation='relu', max_iter=1000, random_state=0)\n",
    "\n",
    "get_evaluation_result(mlp_classifier, X_train, X_test, y_train, y_test)"
   ]
  },
  {
   "cell_type": "code",
   "execution_count": null,
   "id": "z0wjY6lP-aLD",
   "metadata": {
    "id": "z0wjY6lP-aLD"
   },
   "outputs": [],
   "source": []
  },
  {
   "cell_type": "markdown",
   "id": "a0d14505",
   "metadata": {
    "id": "6cyhEvBZ-aHg"
   },
   "source": [
    "# 23.BernoulliRBM:"
   ]
  },
  {
   "cell_type": "code",
   "execution_count": 61,
   "id": "Ui025zgL-aDL",
   "metadata": {
    "id": "Ui025zgL-aDL"
   },
   "outputs": [
    {
     "name": "stdout",
     "output_type": "stream",
     "text": [
      "Accuracy of Logistic classifier on training set: 1.00\n",
      "Accuracy of Logistic classifier on test set: 0.99\n",
      "====================================\n",
      "Model Precison: 1.00\n",
      "Model Recall Score: 0.99\n",
      "Model F1 Score: 1.00\n",
      "Model Accuracy Score: 1.00\n",
      "====================================\n",
      "classification_report: \n",
      "              precision    recall  f1-score   support\n",
      "\n",
      "           0       0.99      1.00      1.00      2313\n",
      "           1       1.00      0.99      1.00      2536\n",
      "\n",
      "    accuracy                           1.00      4849\n",
      "   macro avg       1.00      1.00      1.00      4849\n",
      "weighted avg       1.00      1.00      1.00      4849\n",
      "\n"
     ]
    },
    {
     "data": {
      "image/png": "[encoded data removed]",
      "text/plain": [
       "<Figure size 640x480 with 2 Axes>"
      ]
     },
     "metadata": {},
     "output_type": "display_data"
    }
   ],
   "source": [
    "import lightgbm as lgb\n",
    "lgb_classifier = lgb.LGBMClassifier(boosting_type='gbdt', num_leaves=31, learning_rate=0.05, n_estimators=100)\n",
    "\n",
    "get_evaluation_result(lgb_classifier, X_train, X_test, y_train, y_test)"
   ]
  },
  {
   "cell_type": "markdown",
   "id": "baa8126b",
   "metadata": {
    "id": "zHRe_1Ms-Z_9"
   },
   "source": [
    "# 24.AdaBoostClassifier"
   ]
  },
  {
   "cell_type": "code",
   "execution_count": 62,
   "id": "Jj1B9Fw3-Z9A",
   "metadata": {
    "id": "Jj1B9Fw3-Z9A"
   },
   "outputs": [
    {
     "name": "stdout",
     "output_type": "stream",
     "text": [
      "Accuracy of Logistic classifier on training set: 1.00\n",
      "Accuracy of Logistic classifier on test set: 0.99\n",
      "====================================\n",
      "Model Precison: 1.00\n",
      "Model Recall Score: 0.99\n",
      "Model F1 Score: 1.00\n",
      "Model Accuracy Score: 1.00\n",
      "====================================\n",
      "classification_report: \n",
      "              precision    recall  f1-score   support\n",
      "\n",
      "           0       0.99      1.00      1.00      2313\n",
      "           1       1.00      0.99      1.00      2536\n",
      "\n",
      "    accuracy                           1.00      4849\n",
      "   macro avg       1.00      1.00      1.00      4849\n",
      "weighted avg       1.00      1.00      1.00      4849\n",
      "\n"
     ]
    },
    {
     "data": {
      "image/png": "[encoded data removed]",
      "text/plain": [
       "<Figure size 640x480 with 2 Axes>"
      ]
     },
     "metadata": {},
     "output_type": "display_data"
    }
   ],
   "source": [
    "from sklearn.ensemble import AdaBoostClassifier\n",
    "\n",
    "adaboost_classifier = AdaBoostClassifier(n_estimators=50, learning_rate=1.0, random_state=0)\n",
    "\n",
    "get_evaluation_result(adaboost_classifier, X_train, X_test, y_train, y_test)"
   ]
  },
  {
   "cell_type": "markdown",
   "id": "9eb0ef96",
   "metadata": {
    "id": "GYXpzFHM-Z5J"
   },
   "source": [
    "# 25.GradientBoostingClassifier"
   ]
  },
  {
   "cell_type": "code",
   "execution_count": 63,
   "id": "yNqzkZrT-Z1G",
   "metadata": {
    "id": "yNqzkZrT-Z1G"
   },
   "outputs": [
    {
     "name": "stdout",
     "output_type": "stream",
     "text": [
      "Accuracy of Logistic classifier on training set: 1.00\n",
      "Accuracy of Logistic classifier on test set: 0.99\n",
      "====================================\n",
      "Model Precison: 1.00\n",
      "Model Recall Score: 0.99\n",
      "Model F1 Score: 1.00\n",
      "Model Accuracy Score: 0.99\n",
      "====================================\n",
      "classification_report: \n",
      "              precision    recall  f1-score   support\n",
      "\n",
      "           0       0.99      1.00      0.99      2313\n",
      "           1       1.00      0.99      1.00      2536\n",
      "\n",
      "    accuracy                           0.99      4849\n",
      "   macro avg       0.99      0.99      0.99      4849\n",
      "weighted avg       0.99      0.99      0.99      4849\n",
      "\n"
     ]
    },
    {
     "data": {
      "image/png": "[encoded data removed]",
      "text/plain": [
       "<Figure size 640x480 with 2 Axes>"
      ]
     },
     "metadata": {},
     "output_type": "display_data"
    }
   ],
   "source": [
    "from sklearn.ensemble import GradientBoostingClassifier\n",
    "gb_classifier = GradientBoostingClassifier(n_estimators=100, learning_rate=0.1, max_depth=3, random_state=0)\n",
    "\n",
    "get_evaluation_result(gb_classifier, X_train, X_test, y_train, y_test)"
   ]
  },
  {
   "cell_type": "markdown",
   "id": "11269a1e",
   "metadata": {
    "id": "-OCzNN6m-Zxa"
   },
   "source": [
    "# 26. Ordinal Learning Model"
   ]
  },
  {
   "cell_type": "code",
   "execution_count": 64,
   "id": "FZShyeqy-Zt1",
   "metadata": {
    "id": "FZShyeqy-Zt1"
   },
   "outputs": [
    {
     "name": "stdout",
     "output_type": "stream",
     "text": [
      "Accuracy of Logistic classifier on training set: 1.00\n",
      "Accuracy of Logistic classifier on test set: 0.99\n",
      "====================================\n",
      "Model Precison: 0.99\n",
      "Model Recall Score: 0.99\n",
      "Model F1 Score: 0.99\n",
      "Model Accuracy Score: 0.98\n",
      "====================================\n",
      "classification_report: \n",
      "              precision    recall  f1-score   support\n",
      "\n",
      "           0       0.98      0.98      0.98      2313\n",
      "           1       0.99      0.99      0.99      2536\n",
      "\n",
      "    accuracy                           0.98      4849\n",
      "   macro avg       0.98      0.98      0.98      4849\n",
      "weighted avg       0.98      0.98      0.98      4849\n",
      "\n"
     ]
    },
    {
     "data": {
      "image/png": "[encoded data removed]",
      "text/plain": [
       "<Figure size 640x480 with 2 Axes>"
      ]
     },
     "metadata": {},
     "output_type": "display_data"
    }
   ],
   "source": [
    "from mord import LogisticAT\n",
    "\n",
    "# Create and train an Ordinal Logistic Regression model (LogisticAT)\n",
    "ordinal_classifier = LogisticAT(alpha=1.0)  # You can adjust the regularization parameter alpha\n",
    "\n",
    "get_evaluation_result(ordinal_classifier, X_train, X_test, y_train, y_test)"
   ]
  },
  {
   "cell_type": "markdown",
   "id": "1740642f",
   "metadata": {
    "id": "-bY97iVN-ZoR"
   },
   "source": [
    "# 27.Xgboost"
   ]
  },
  {
   "cell_type": "code",
   "execution_count": 65,
   "id": "bed4ac8c",
   "metadata": {
    "id": "xgv03PxR-Zco"
   },
   "outputs": [
    {
     "name": "stdout",
     "output_type": "stream",
     "text": [
      "Accuracy of Logistic classifier on training set: 1.00\n",
      "Accuracy of Logistic classifier on test set: 0.99\n",
      "====================================\n",
      "Model Precison: 1.00\n",
      "Model Recall Score: 0.99\n",
      "Model F1 Score: 1.00\n",
      "Model Accuracy Score: 1.00\n",
      "====================================\n",
      "classification_report: \n",
      "              precision    recall  f1-score   support\n",
      "\n",
      "           0       0.99      1.00      1.00      2313\n",
      "           1       1.00      0.99      1.00      2536\n",
      "\n",
      "    accuracy                           1.00      4849\n",
      "   macro avg       1.00      1.00      1.00      4849\n",
      "weighted avg       1.00      1.00      1.00      4849\n",
      "\n"
     ]
    },
    {
     "data": {
      "image/png": "[encoded data removed]",
      "text/plain": [
       "<Figure size 640x480 with 2 Axes>"
      ]
     },
     "metadata": {},
     "output_type": "display_data"
    }
   ],
   "source": [
    "import xgboost as xgb\n",
    "from sklearn.metrics import accuracy_score\n",
    "\n",
    "# Create an XGBClassifier instance with specified hyperparameters\n",
    "xgb_classifier = xgb.XGBClassifier(n_estimators=100, learning_rate=0.1, max_depth=3, random_state=0)\n",
    "\n",
    "get_evaluation_result(xgb_classifier, X_train, X_test, y_train, y_test)"
   ]
  },
  {
   "cell_type": "markdown",
   "id": "11e73fc3",
   "metadata": {
    "id": "I8vjLZBPl-BS"
   },
   "source": [
    "# 28.Decision Stump"
   ]
  },
  {
   "cell_type": "code",
   "execution_count": 66,
   "id": "cclYgH_9l9yo",
   "metadata": {
    "id": "cclYgH_9l9yo"
   },
   "outputs": [
    {
     "name": "stdout",
     "output_type": "stream",
     "text": [
      "Accuracy of Logistic classifier on training set: 1.00\n",
      "Accuracy of Logistic classifier on test set: 0.99\n",
      "====================================\n",
      "Model Precison: 1.00\n",
      "Model Recall Score: 0.99\n",
      "Model F1 Score: 0.99\n",
      "Model Accuracy Score: 0.99\n",
      "====================================\n",
      "classification_report: \n",
      "              precision    recall  f1-score   support\n",
      "\n",
      "           0       0.99      1.00      0.99      2313\n",
      "           1       1.00      0.99      0.99      2536\n",
      "\n",
      "    accuracy                           0.99      4849\n",
      "   macro avg       0.99      0.99      0.99      4849\n",
      "weighted avg       0.99      0.99      0.99      4849\n",
      "\n"
     ]
    },
    {
     "data": {
      "image/png": "[encoded data removed]",
      "text/plain": [
       "<Figure size 640x480 with 2 Axes>"
      ]
     },
     "metadata": {},
     "output_type": "display_data"
    }
   ],
   "source": [
    "from sklearn.tree import DecisionTreeClassifier\n",
    "\n",
    "# Create and train a Decision Stump (a DecisionTreeClassifier with max_depth=1)\n",
    "decision_stump = DecisionTreeClassifier(max_depth=1)\n",
    "\n",
    "get_evaluation_result(decision_stump, X_train, X_test, y_train, y_test)"
   ]
  },
  {
   "cell_type": "markdown",
   "id": "35e9f0ad",
   "metadata": {
    "id": "1RK0YlAtl_M4"
   },
   "source": [
    "# 29.ComplementNB"
   ]
  },
  {
   "cell_type": "code",
   "execution_count": 67,
   "id": "yYg3rgAymgRG",
   "metadata": {
    "id": "yYg3rgAymgRG"
   },
   "outputs": [
    {
     "name": "stdout",
     "output_type": "stream",
     "text": [
      "Accuracy of Logistic classifier on training set: 1.00\n",
      "Accuracy of Logistic classifier on test set: 0.99\n",
      "====================================\n",
      "Model Precison: 0.95\n",
      "Model Recall Score: 0.95\n",
      "Model F1 Score: 0.95\n",
      "Model Accuracy Score: 0.94\n",
      "====================================\n",
      "classification_report: \n",
      "              precision    recall  f1-score   support\n",
      "\n",
      "           0       0.94      0.94      0.94      2313\n",
      "           1       0.95      0.95      0.95      2536\n",
      "\n",
      "    accuracy                           0.94      4849\n",
      "   macro avg       0.94      0.94      0.94      4849\n",
      "weighted avg       0.94      0.94      0.94      4849\n",
      "\n"
     ]
    },
    {
     "data": {
      "image/png": "[encoded data removed]",
      "text/plain": [
       "<Figure size 640x480 with 2 Axes>"
      ]
     },
     "metadata": {},
     "output_type": "display_data"
    }
   ],
   "source": [
    "from sklearn.naive_bayes import ComplementNB\n",
    "\n",
    "# Create a ComplementNB instance\n",
    "complement_nb_classifier = ComplementNB()\n",
    "get_evaluation_result(complement_nb_classifier, X_train, X_test, y_train, y_test)"
   ]
  },
  {
   "cell_type": "markdown",
   "id": "109efaf7",
   "metadata": {
    "id": "OsU87wQ4mfqX"
   },
   "source": [
    "# 30.MultinomialNB"
   ]
  },
  {
   "cell_type": "code",
   "execution_count": 68,
   "id": "Lnf2tJDIqPVj",
   "metadata": {
    "id": "Lnf2tJDIqPVj"
   },
   "outputs": [
    {
     "name": "stdout",
     "output_type": "stream",
     "text": [
      "Accuracy of Logistic classifier on training set: 1.00\n",
      "Accuracy of Logistic classifier on test set: 0.99\n",
      "====================================\n",
      "Model Precison: 0.94\n",
      "Model Recall Score: 0.95\n",
      "Model F1 Score: 0.95\n",
      "Model Accuracy Score: 0.95\n",
      "====================================\n",
      "classification_report: \n",
      "              precision    recall  f1-score   support\n",
      "\n",
      "           0       0.95      0.94      0.94      2313\n",
      "           1       0.94      0.95      0.95      2536\n",
      "\n",
      "    accuracy                           0.95      4849\n",
      "   macro avg       0.95      0.94      0.95      4849\n",
      "weighted avg       0.95      0.95      0.95      4849\n",
      "\n"
     ]
    },
    {
     "data": {
      "image/png": "[encoded data removed]",
      "text/plain": [
       "<Figure size 640x480 with 2 Axes>"
      ]
     },
     "metadata": {},
     "output_type": "display_data"
    }
   ],
   "source": [
    "from sklearn.naive_bayes import MultinomialNB\n",
    "\n",
    "# Create a MultinomialNB instance\n",
    "multinomial_nb_classifier = MultinomialNB()\n",
    "get_evaluation_result(multinomial_nb_classifier, X_train, X_test, y_train, y_test)"
   ]
  },
  {
   "cell_type": "code",
   "execution_count": null,
   "id": "7b101e98",
   "metadata": {},
   "outputs": [],
   "source": []
  }
 ],
 "metadata": {
  "accelerator": "GPU",
  "colab": {
   "gpuType": "T4",
   "provenance": []
  },
  "kernelspec": {
   "display_name": "Python 3 (ipykernel)",
   "language": "python",
   "name": "python3"
  },
  "language_info": {
   "codemirror_mode": {
    "name": "ipython",
    "version": 3
   },
   "file_extension": ".py",
   "mimetype": "text/x-python",
   "name": "python",
   "nbconvert_exporter": "python",
   "pygments_lexer": "ipython3",
   "version": "3.10.9"
  }
 },
 "nbformat": 4,
 "nbformat_minor": 5
}
